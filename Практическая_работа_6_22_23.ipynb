{
  "nbformat": 4,
  "nbformat_minor": 0,
  "metadata": {
    "colab": {
      "provenance": [],
      "include_colab_link": true
    },
    "kernelspec": {
      "name": "python3",
      "display_name": "Python 3"
    },
    "language_info": {
      "name": "python"
    }
  },
  "cells": [
    {
      "cell_type": "markdown",
      "metadata": {
        "id": "view-in-github",
        "colab_type": "text"
      },
      "source": [
        "<a href=\"https://colab.research.google.com/github/daryaami/cs102/blob/homework08/%D0%9F%D1%80%D0%B0%D0%BA%D1%82%D0%B8%D1%87%D0%B5%D1%81%D0%BA%D0%B0%D1%8F_%D1%80%D0%B0%D0%B1%D0%BE%D1%82%D0%B0_6_22_23.ipynb\" target=\"_parent\"><img src=\"https://colab.research.google.com/assets/colab-badge.svg\" alt=\"Open In Colab\"/></a>"
      ]
    },
    {
      "cell_type": "markdown",
      "metadata": {
        "id": "KSKKDKd2rwlj"
      },
      "source": [
        "# Дескриптивный анализ данных"
      ]
    },
    {
      "cell_type": "markdown",
      "source": [],
      "metadata": {
        "id": "mZIRNG0bSR2N"
      }
    },
    {
      "cell_type": "markdown",
      "source": [
        ">$\\color{red}{\\text{Прежде чем перейти в выполнению заданий,}}$\n",
        "$\\color{red}{\\text{через меню Файл подключите свой гугл-колаб к своему гитхабу. }}$\n",
        "$\\color{red}{\\text{Создайте для этой работы отдельную ветку и папку – homework06.}}$"
      ],
      "metadata": {
        "id": "WVUwSMwE3W8c"
      }
    },
    {
      "cell_type": "markdown",
      "metadata": {
        "id": "34z2ONdu-UF0"
      },
      "source": [
        "*Построение всех графиков выполняется только при помощи средств визуализации `Python`: `matplotlib`, `seaborn`, `pandas`. По каждому заданию должен быть сделан вывод. Для всех визуализаций используйте стиль `seaborn`. Обязательно добавляйте подпись графика и осей.*"
      ]
    },
    {
      "cell_type": "markdown",
      "metadata": {
        "id": "2PDB4mwLr1Sk"
      },
      "source": [
        "В этой практической работе вам предстоит провести анализ данных об особенностях жанров музыки. Датасет возьмите [отсюда](https://www.kaggle.com/vicsuperman/prediction-of-music-genre). Он содержит 41700 уникальных исполниителей.\n",
        "\n",
        "Данные содержат 18 столбцов:\n",
        "- `instance_id` - id строки датасета\n",
        "- `artist_name` - исполнитель\n",
        "- `track_name` - название трека\n",
        "- `popularity` - индекс популярности трека\n",
        "- `acousticness` - акустичность\n",
        "- `danceability` - танцевальность (насколько трек подходит для танцев)\n",
        "- `duration_ms` - длительность трека\n",
        "- `energy` - энергичность трека\n",
        "- `instrumentalness` - инструментальность\n",
        "- `key` - регистр (высота тона)\n",
        "- `liveness` - живость\n",
        "- `loudness` - громкость\n",
        "- `mode` - тональность\n",
        "- `speechiness` - насколько много текста\n",
        "- `tempo` - музыкальный темп\n",
        "- `obtained_date` - дата загрузки трека в датасет\n",
        "- `valence` - настроение\n",
        "- `music_genre` - жанр"
      ]
    },
    {
      "cell_type": "markdown",
      "source": [
        "## Часть 1\n",
        "\n",
        "Выполните все задания ниже с помощью библиотеки `pandas`."
      ],
      "metadata": {
        "id": "bkchMOL3490D"
      }
    },
    {
      "cell_type": "markdown",
      "source": [
        "### Задание 1"
      ],
      "metadata": {
        "id": "2oLTrZbOxFmz"
      }
    },
    {
      "cell_type": "markdown",
      "source": [
        "1. Загрузите датасет `music_genre.csv`.\n",
        "2. Возьмите 20 тысяч случайных строк из датасета (**все остальные задания выполняйте для этих 20 тысяч строк!!!**)\n",
        "3. Проверьте, есть ли в датасете дублирующиеся строки. Если есть, удалите их.\n",
        "4. Проверьте, есть ли а датасете строки, в которых значение в столбце `artist_name` – `empty_field`. Если есть, выведите эти строки и их количество. А затем удалите из датасета."
      ],
      "metadata": {
        "id": "UiPqPkb0wwyw"
      }
    },
    {
      "cell_type": "code",
      "source": [
        "import pandas as pd\n",
        "import numpy as np\n",
        "import seaborn as sns\n",
        "import matplotlib.pyplot as plt\n",
        "\n",
        "np.random.seed(1234)\n",
        "\n",
        "df = pd.read_csv('music_genre.csv')\n",
        "data = df.sample(n=20000)"
      ],
      "metadata": {
        "id": "CdDZgNsEwsgA"
      },
      "execution_count": 2,
      "outputs": []
    },
    {
      "cell_type": "code",
      "source": [
        "data = data.drop_duplicates()"
      ],
      "metadata": {
        "id": "SU0JRzqNSs3H"
      },
      "execution_count": 3,
      "outputs": []
    },
    {
      "cell_type": "code",
      "source": [
        "data"
      ],
      "metadata": {
        "colab": {
          "base_uri": "https://localhost:8080/",
          "height": 669
        },
        "id": "qY7BCJLDStHE",
        "outputId": "87c07295-8c13-478d-c423-e43663e4ac30"
      },
      "execution_count": 4,
      "outputs": [
        {
          "output_type": "execute_result",
          "data": {
            "text/plain": [
              "       instance_id        artist_name  \\\n",
              "21939      47123.0    Chris Stapleton   \n",
              "6357       78025.0             May J.   \n",
              "11354      44406.0              Axian   \n",
              "46072      34898.0           A$AP Mob   \n",
              "23409      34591.0   Josh Abbott Band   \n",
              "...            ...                ...   \n",
              "26414      24224.0             Future   \n",
              "48115      32622.0     Arizona Zervas   \n",
              "5339       54852.0       Yuki Hayashi   \n",
              "15797      50415.0     Ryan Stevenson   \n",
              "4659       43076.0  Boaz van de Beatz   \n",
              "\n",
              "                                          track_name  popularity  \\\n",
              "21939  Last Thing I Needed, First Thing This Morning        57.0   \n",
              "6357                          I Will Always Love You        33.0   \n",
              "11354                                       Amazonas        41.0   \n",
              "46072                                  Feels So Good        59.0   \n",
              "23409                               She Will Be Free        35.0   \n",
              "...                                              ...         ...   \n",
              "26414                          WHEN I THINK ABOUT IT        52.0   \n",
              "48115                                         Swerve        58.0   \n",
              "5339                                          私が来た!!        33.0   \n",
              "15797                                     The Gospel        51.0   \n",
              "4659                                     No Way Home        35.0   \n",
              "\n",
              "       acousticness  danceability  duration_ms  energy  instrumentalness key  \\\n",
              "21939        0.7570         0.560     255027.0   0.261          0.000047   E   \n",
              "6357         0.7630         0.329     290844.0   0.352          0.000001   E   \n",
              "11354        0.4320         0.760     113279.0   0.424          0.712000   B   \n",
              "46072        0.3330         0.877     205267.0   0.375          0.010300  A#   \n",
              "23409        0.0380         0.439     257213.0   0.780          0.000000   D   \n",
              "...             ...           ...          ...     ...               ...  ..   \n",
              "26414        0.1340         0.523     184594.0   0.665          0.000000  F#   \n",
              "48115        0.1570         0.918     169718.0   0.834          0.000011   C   \n",
              "5339         0.3980         0.390         -1.0   0.881          0.904000   C   \n",
              "15797        0.0349         0.573     254262.0   0.661          0.000079   C   \n",
              "4659         0.0721         0.647     200094.0   0.913          0.000032   G   \n",
              "\n",
              "       liveness  loudness   mode  speechiness               tempo  \\\n",
              "21939    0.1240   -10.000  Major       0.0289              83.749   \n",
              "6357     0.2090    -9.611  Major       0.0365             131.322   \n",
              "11354    0.0836    -6.768  Minor       0.2200   85.03200000000001   \n",
              "46072    0.1010   -10.830  Major       0.3040              77.028   \n",
              "23409    0.1160    -4.643  Major       0.0395  174.00599999999997   \n",
              "...         ...       ...    ...          ...                 ...   \n",
              "26414    0.1380    -6.534  Minor       0.1510  155.07299999999998   \n",
              "48115    0.0651    -6.210  Major       0.0935             128.006   \n",
              "5339     0.1390    -5.509  Major       0.0968             157.711   \n",
              "15797    0.1120    -6.730  Minor       0.0517             153.907   \n",
              "4659     0.3470    -5.233  Minor       0.1010  154.97799999999998   \n",
              "\n",
              "      obtained_date  valence  music_genre  \n",
              "21939         3-Apr   0.2010      Country  \n",
              "6357          4-Apr   0.1540        Anime  \n",
              "11354         4-Apr   0.8320         Jazz  \n",
              "46072         4-Apr   0.0832      Hip-Hop  \n",
              "23409         4-Apr   0.1030      Country  \n",
              "...             ...      ...          ...  \n",
              "26414         4-Apr   0.5060          Rap  \n",
              "48115         4-Apr   0.8420      Hip-Hop  \n",
              "5339          3-Apr   0.5440        Anime  \n",
              "15797         4-Apr   0.6220  Alternative  \n",
              "4659          4-Apr   0.3610   Electronic  \n",
              "\n",
              "[19998 rows x 18 columns]"
            ],
            "text/html": [
              "\n",
              "  <div id=\"df-ab2728a2-4c8b-4ef5-87c9-bd79664c648f\" class=\"colab-df-container\">\n",
              "    <div>\n",
              "<style scoped>\n",
              "    .dataframe tbody tr th:only-of-type {\n",
              "        vertical-align: middle;\n",
              "    }\n",
              "\n",
              "    .dataframe tbody tr th {\n",
              "        vertical-align: top;\n",
              "    }\n",
              "\n",
              "    .dataframe thead th {\n",
              "        text-align: right;\n",
              "    }\n",
              "</style>\n",
              "<table border=\"1\" class=\"dataframe\">\n",
              "  <thead>\n",
              "    <tr style=\"text-align: right;\">\n",
              "      <th></th>\n",
              "      <th>instance_id</th>\n",
              "      <th>artist_name</th>\n",
              "      <th>track_name</th>\n",
              "      <th>popularity</th>\n",
              "      <th>acousticness</th>\n",
              "      <th>danceability</th>\n",
              "      <th>duration_ms</th>\n",
              "      <th>energy</th>\n",
              "      <th>instrumentalness</th>\n",
              "      <th>key</th>\n",
              "      <th>liveness</th>\n",
              "      <th>loudness</th>\n",
              "      <th>mode</th>\n",
              "      <th>speechiness</th>\n",
              "      <th>tempo</th>\n",
              "      <th>obtained_date</th>\n",
              "      <th>valence</th>\n",
              "      <th>music_genre</th>\n",
              "    </tr>\n",
              "  </thead>\n",
              "  <tbody>\n",
              "    <tr>\n",
              "      <th>21939</th>\n",
              "      <td>47123.0</td>\n",
              "      <td>Chris Stapleton</td>\n",
              "      <td>Last Thing I Needed, First Thing This Morning</td>\n",
              "      <td>57.0</td>\n",
              "      <td>0.7570</td>\n",
              "      <td>0.560</td>\n",
              "      <td>255027.0</td>\n",
              "      <td>0.261</td>\n",
              "      <td>0.000047</td>\n",
              "      <td>E</td>\n",
              "      <td>0.1240</td>\n",
              "      <td>-10.000</td>\n",
              "      <td>Major</td>\n",
              "      <td>0.0289</td>\n",
              "      <td>83.749</td>\n",
              "      <td>3-Apr</td>\n",
              "      <td>0.2010</td>\n",
              "      <td>Country</td>\n",
              "    </tr>\n",
              "    <tr>\n",
              "      <th>6357</th>\n",
              "      <td>78025.0</td>\n",
              "      <td>May J.</td>\n",
              "      <td>I Will Always Love You</td>\n",
              "      <td>33.0</td>\n",
              "      <td>0.7630</td>\n",
              "      <td>0.329</td>\n",
              "      <td>290844.0</td>\n",
              "      <td>0.352</td>\n",
              "      <td>0.000001</td>\n",
              "      <td>E</td>\n",
              "      <td>0.2090</td>\n",
              "      <td>-9.611</td>\n",
              "      <td>Major</td>\n",
              "      <td>0.0365</td>\n",
              "      <td>131.322</td>\n",
              "      <td>4-Apr</td>\n",
              "      <td>0.1540</td>\n",
              "      <td>Anime</td>\n",
              "    </tr>\n",
              "    <tr>\n",
              "      <th>11354</th>\n",
              "      <td>44406.0</td>\n",
              "      <td>Axian</td>\n",
              "      <td>Amazonas</td>\n",
              "      <td>41.0</td>\n",
              "      <td>0.4320</td>\n",
              "      <td>0.760</td>\n",
              "      <td>113279.0</td>\n",
              "      <td>0.424</td>\n",
              "      <td>0.712000</td>\n",
              "      <td>B</td>\n",
              "      <td>0.0836</td>\n",
              "      <td>-6.768</td>\n",
              "      <td>Minor</td>\n",
              "      <td>0.2200</td>\n",
              "      <td>85.03200000000001</td>\n",
              "      <td>4-Apr</td>\n",
              "      <td>0.8320</td>\n",
              "      <td>Jazz</td>\n",
              "    </tr>\n",
              "    <tr>\n",
              "      <th>46072</th>\n",
              "      <td>34898.0</td>\n",
              "      <td>A$AP Mob</td>\n",
              "      <td>Feels So Good</td>\n",
              "      <td>59.0</td>\n",
              "      <td>0.3330</td>\n",
              "      <td>0.877</td>\n",
              "      <td>205267.0</td>\n",
              "      <td>0.375</td>\n",
              "      <td>0.010300</td>\n",
              "      <td>A#</td>\n",
              "      <td>0.1010</td>\n",
              "      <td>-10.830</td>\n",
              "      <td>Major</td>\n",
              "      <td>0.3040</td>\n",
              "      <td>77.028</td>\n",
              "      <td>4-Apr</td>\n",
              "      <td>0.0832</td>\n",
              "      <td>Hip-Hop</td>\n",
              "    </tr>\n",
              "    <tr>\n",
              "      <th>23409</th>\n",
              "      <td>34591.0</td>\n",
              "      <td>Josh Abbott Band</td>\n",
              "      <td>She Will Be Free</td>\n",
              "      <td>35.0</td>\n",
              "      <td>0.0380</td>\n",
              "      <td>0.439</td>\n",
              "      <td>257213.0</td>\n",
              "      <td>0.780</td>\n",
              "      <td>0.000000</td>\n",
              "      <td>D</td>\n",
              "      <td>0.1160</td>\n",
              "      <td>-4.643</td>\n",
              "      <td>Major</td>\n",
              "      <td>0.0395</td>\n",
              "      <td>174.00599999999997</td>\n",
              "      <td>4-Apr</td>\n",
              "      <td>0.1030</td>\n",
              "      <td>Country</td>\n",
              "    </tr>\n",
              "    <tr>\n",
              "      <th>...</th>\n",
              "      <td>...</td>\n",
              "      <td>...</td>\n",
              "      <td>...</td>\n",
              "      <td>...</td>\n",
              "      <td>...</td>\n",
              "      <td>...</td>\n",
              "      <td>...</td>\n",
              "      <td>...</td>\n",
              "      <td>...</td>\n",
              "      <td>...</td>\n",
              "      <td>...</td>\n",
              "      <td>...</td>\n",
              "      <td>...</td>\n",
              "      <td>...</td>\n",
              "      <td>...</td>\n",
              "      <td>...</td>\n",
              "      <td>...</td>\n",
              "      <td>...</td>\n",
              "    </tr>\n",
              "    <tr>\n",
              "      <th>26414</th>\n",
              "      <td>24224.0</td>\n",
              "      <td>Future</td>\n",
              "      <td>WHEN I THINK ABOUT IT</td>\n",
              "      <td>52.0</td>\n",
              "      <td>0.1340</td>\n",
              "      <td>0.523</td>\n",
              "      <td>184594.0</td>\n",
              "      <td>0.665</td>\n",
              "      <td>0.000000</td>\n",
              "      <td>F#</td>\n",
              "      <td>0.1380</td>\n",
              "      <td>-6.534</td>\n",
              "      <td>Minor</td>\n",
              "      <td>0.1510</td>\n",
              "      <td>155.07299999999998</td>\n",
              "      <td>4-Apr</td>\n",
              "      <td>0.5060</td>\n",
              "      <td>Rap</td>\n",
              "    </tr>\n",
              "    <tr>\n",
              "      <th>48115</th>\n",
              "      <td>32622.0</td>\n",
              "      <td>Arizona Zervas</td>\n",
              "      <td>Swerve</td>\n",
              "      <td>58.0</td>\n",
              "      <td>0.1570</td>\n",
              "      <td>0.918</td>\n",
              "      <td>169718.0</td>\n",
              "      <td>0.834</td>\n",
              "      <td>0.000011</td>\n",
              "      <td>C</td>\n",
              "      <td>0.0651</td>\n",
              "      <td>-6.210</td>\n",
              "      <td>Major</td>\n",
              "      <td>0.0935</td>\n",
              "      <td>128.006</td>\n",
              "      <td>4-Apr</td>\n",
              "      <td>0.8420</td>\n",
              "      <td>Hip-Hop</td>\n",
              "    </tr>\n",
              "    <tr>\n",
              "      <th>5339</th>\n",
              "      <td>54852.0</td>\n",
              "      <td>Yuki Hayashi</td>\n",
              "      <td>私が来た!!</td>\n",
              "      <td>33.0</td>\n",
              "      <td>0.3980</td>\n",
              "      <td>0.390</td>\n",
              "      <td>-1.0</td>\n",
              "      <td>0.881</td>\n",
              "      <td>0.904000</td>\n",
              "      <td>C</td>\n",
              "      <td>0.1390</td>\n",
              "      <td>-5.509</td>\n",
              "      <td>Major</td>\n",
              "      <td>0.0968</td>\n",
              "      <td>157.711</td>\n",
              "      <td>3-Apr</td>\n",
              "      <td>0.5440</td>\n",
              "      <td>Anime</td>\n",
              "    </tr>\n",
              "    <tr>\n",
              "      <th>15797</th>\n",
              "      <td>50415.0</td>\n",
              "      <td>Ryan Stevenson</td>\n",
              "      <td>The Gospel</td>\n",
              "      <td>51.0</td>\n",
              "      <td>0.0349</td>\n",
              "      <td>0.573</td>\n",
              "      <td>254262.0</td>\n",
              "      <td>0.661</td>\n",
              "      <td>0.000079</td>\n",
              "      <td>C</td>\n",
              "      <td>0.1120</td>\n",
              "      <td>-6.730</td>\n",
              "      <td>Minor</td>\n",
              "      <td>0.0517</td>\n",
              "      <td>153.907</td>\n",
              "      <td>4-Apr</td>\n",
              "      <td>0.6220</td>\n",
              "      <td>Alternative</td>\n",
              "    </tr>\n",
              "    <tr>\n",
              "      <th>4659</th>\n",
              "      <td>43076.0</td>\n",
              "      <td>Boaz van de Beatz</td>\n",
              "      <td>No Way Home</td>\n",
              "      <td>35.0</td>\n",
              "      <td>0.0721</td>\n",
              "      <td>0.647</td>\n",
              "      <td>200094.0</td>\n",
              "      <td>0.913</td>\n",
              "      <td>0.000032</td>\n",
              "      <td>G</td>\n",
              "      <td>0.3470</td>\n",
              "      <td>-5.233</td>\n",
              "      <td>Minor</td>\n",
              "      <td>0.1010</td>\n",
              "      <td>154.97799999999998</td>\n",
              "      <td>4-Apr</td>\n",
              "      <td>0.3610</td>\n",
              "      <td>Electronic</td>\n",
              "    </tr>\n",
              "  </tbody>\n",
              "</table>\n",
              "<p>19998 rows × 18 columns</p>\n",
              "</div>\n",
              "    <div class=\"colab-df-buttons\">\n",
              "\n",
              "  <div class=\"colab-df-container\">\n",
              "    <button class=\"colab-df-convert\" onclick=\"convertToInteractive('df-ab2728a2-4c8b-4ef5-87c9-bd79664c648f')\"\n",
              "            title=\"Convert this dataframe to an interactive table.\"\n",
              "            style=\"display:none;\">\n",
              "\n",
              "  <svg xmlns=\"http://www.w3.org/2000/svg\" height=\"24px\" viewBox=\"0 -960 960 960\">\n",
              "    <path d=\"M120-120v-720h720v720H120Zm60-500h600v-160H180v160Zm220 220h160v-160H400v160Zm0 220h160v-160H400v160ZM180-400h160v-160H180v160Zm440 0h160v-160H620v160ZM180-180h160v-160H180v160Zm440 0h160v-160H620v160Z\"/>\n",
              "  </svg>\n",
              "    </button>\n",
              "\n",
              "  <style>\n",
              "    .colab-df-container {\n",
              "      display:flex;\n",
              "      gap: 12px;\n",
              "    }\n",
              "\n",
              "    .colab-df-convert {\n",
              "      background-color: #E8F0FE;\n",
              "      border: none;\n",
              "      border-radius: 50%;\n",
              "      cursor: pointer;\n",
              "      display: none;\n",
              "      fill: #1967D2;\n",
              "      height: 32px;\n",
              "      padding: 0 0 0 0;\n",
              "      width: 32px;\n",
              "    }\n",
              "\n",
              "    .colab-df-convert:hover {\n",
              "      background-color: #E2EBFA;\n",
              "      box-shadow: 0px 1px 2px rgba(60, 64, 67, 0.3), 0px 1px 3px 1px rgba(60, 64, 67, 0.15);\n",
              "      fill: #174EA6;\n",
              "    }\n",
              "\n",
              "    .colab-df-buttons div {\n",
              "      margin-bottom: 4px;\n",
              "    }\n",
              "\n",
              "    [theme=dark] .colab-df-convert {\n",
              "      background-color: #3B4455;\n",
              "      fill: #D2E3FC;\n",
              "    }\n",
              "\n",
              "    [theme=dark] .colab-df-convert:hover {\n",
              "      background-color: #434B5C;\n",
              "      box-shadow: 0px 1px 3px 1px rgba(0, 0, 0, 0.15);\n",
              "      filter: drop-shadow(0px 1px 2px rgba(0, 0, 0, 0.3));\n",
              "      fill: #FFFFFF;\n",
              "    }\n",
              "  </style>\n",
              "\n",
              "    <script>\n",
              "      const buttonEl =\n",
              "        document.querySelector('#df-ab2728a2-4c8b-4ef5-87c9-bd79664c648f button.colab-df-convert');\n",
              "      buttonEl.style.display =\n",
              "        google.colab.kernel.accessAllowed ? 'block' : 'none';\n",
              "\n",
              "      async function convertToInteractive(key) {\n",
              "        const element = document.querySelector('#df-ab2728a2-4c8b-4ef5-87c9-bd79664c648f');\n",
              "        const dataTable =\n",
              "          await google.colab.kernel.invokeFunction('convertToInteractive',\n",
              "                                                    [key], {});\n",
              "        if (!dataTable) return;\n",
              "\n",
              "        const docLinkHtml = 'Like what you see? Visit the ' +\n",
              "          '<a target=\"_blank\" href=https://colab.research.google.com/notebooks/data_table.ipynb>data table notebook</a>'\n",
              "          + ' to learn more about interactive tables.';\n",
              "        element.innerHTML = '';\n",
              "        dataTable['output_type'] = 'display_data';\n",
              "        await google.colab.output.renderOutput(dataTable, element);\n",
              "        const docLink = document.createElement('div');\n",
              "        docLink.innerHTML = docLinkHtml;\n",
              "        element.appendChild(docLink);\n",
              "      }\n",
              "    </script>\n",
              "  </div>\n",
              "\n",
              "\n",
              "<div id=\"df-d043eb64-4f6c-4b5e-af2b-42749d9e0d9f\">\n",
              "  <button class=\"colab-df-quickchart\" onclick=\"quickchart('df-d043eb64-4f6c-4b5e-af2b-42749d9e0d9f')\"\n",
              "            title=\"Suggest charts\"\n",
              "            style=\"display:none;\">\n",
              "\n",
              "<svg xmlns=\"http://www.w3.org/2000/svg\" height=\"24px\"viewBox=\"0 0 24 24\"\n",
              "     width=\"24px\">\n",
              "    <g>\n",
              "        <path d=\"M19 3H5c-1.1 0-2 .9-2 2v14c0 1.1.9 2 2 2h14c1.1 0 2-.9 2-2V5c0-1.1-.9-2-2-2zM9 17H7v-7h2v7zm4 0h-2V7h2v10zm4 0h-2v-4h2v4z\"/>\n",
              "    </g>\n",
              "</svg>\n",
              "  </button>\n",
              "\n",
              "<style>\n",
              "  .colab-df-quickchart {\n",
              "      --bg-color: #E8F0FE;\n",
              "      --fill-color: #1967D2;\n",
              "      --hover-bg-color: #E2EBFA;\n",
              "      --hover-fill-color: #174EA6;\n",
              "      --disabled-fill-color: #AAA;\n",
              "      --disabled-bg-color: #DDD;\n",
              "  }\n",
              "\n",
              "  [theme=dark] .colab-df-quickchart {\n",
              "      --bg-color: #3B4455;\n",
              "      --fill-color: #D2E3FC;\n",
              "      --hover-bg-color: #434B5C;\n",
              "      --hover-fill-color: #FFFFFF;\n",
              "      --disabled-bg-color: #3B4455;\n",
              "      --disabled-fill-color: #666;\n",
              "  }\n",
              "\n",
              "  .colab-df-quickchart {\n",
              "    background-color: var(--bg-color);\n",
              "    border: none;\n",
              "    border-radius: 50%;\n",
              "    cursor: pointer;\n",
              "    display: none;\n",
              "    fill: var(--fill-color);\n",
              "    height: 32px;\n",
              "    padding: 0;\n",
              "    width: 32px;\n",
              "  }\n",
              "\n",
              "  .colab-df-quickchart:hover {\n",
              "    background-color: var(--hover-bg-color);\n",
              "    box-shadow: 0 1px 2px rgba(60, 64, 67, 0.3), 0 1px 3px 1px rgba(60, 64, 67, 0.15);\n",
              "    fill: var(--button-hover-fill-color);\n",
              "  }\n",
              "\n",
              "  .colab-df-quickchart-complete:disabled,\n",
              "  .colab-df-quickchart-complete:disabled:hover {\n",
              "    background-color: var(--disabled-bg-color);\n",
              "    fill: var(--disabled-fill-color);\n",
              "    box-shadow: none;\n",
              "  }\n",
              "\n",
              "  .colab-df-spinner {\n",
              "    border: 2px solid var(--fill-color);\n",
              "    border-color: transparent;\n",
              "    border-bottom-color: var(--fill-color);\n",
              "    animation:\n",
              "      spin 1s steps(1) infinite;\n",
              "  }\n",
              "\n",
              "  @keyframes spin {\n",
              "    0% {\n",
              "      border-color: transparent;\n",
              "      border-bottom-color: var(--fill-color);\n",
              "      border-left-color: var(--fill-color);\n",
              "    }\n",
              "    20% {\n",
              "      border-color: transparent;\n",
              "      border-left-color: var(--fill-color);\n",
              "      border-top-color: var(--fill-color);\n",
              "    }\n",
              "    30% {\n",
              "      border-color: transparent;\n",
              "      border-left-color: var(--fill-color);\n",
              "      border-top-color: var(--fill-color);\n",
              "      border-right-color: var(--fill-color);\n",
              "    }\n",
              "    40% {\n",
              "      border-color: transparent;\n",
              "      border-right-color: var(--fill-color);\n",
              "      border-top-color: var(--fill-color);\n",
              "    }\n",
              "    60% {\n",
              "      border-color: transparent;\n",
              "      border-right-color: var(--fill-color);\n",
              "    }\n",
              "    80% {\n",
              "      border-color: transparent;\n",
              "      border-right-color: var(--fill-color);\n",
              "      border-bottom-color: var(--fill-color);\n",
              "    }\n",
              "    90% {\n",
              "      border-color: transparent;\n",
              "      border-bottom-color: var(--fill-color);\n",
              "    }\n",
              "  }\n",
              "</style>\n",
              "\n",
              "  <script>\n",
              "    async function quickchart(key) {\n",
              "      const quickchartButtonEl =\n",
              "        document.querySelector('#' + key + ' button');\n",
              "      quickchartButtonEl.disabled = true;  // To prevent multiple clicks.\n",
              "      quickchartButtonEl.classList.add('colab-df-spinner');\n",
              "      try {\n",
              "        const charts = await google.colab.kernel.invokeFunction(\n",
              "            'suggestCharts', [key], {});\n",
              "      } catch (error) {\n",
              "        console.error('Error during call to suggestCharts:', error);\n",
              "      }\n",
              "      quickchartButtonEl.classList.remove('colab-df-spinner');\n",
              "      quickchartButtonEl.classList.add('colab-df-quickchart-complete');\n",
              "    }\n",
              "    (() => {\n",
              "      let quickchartButtonEl =\n",
              "        document.querySelector('#df-d043eb64-4f6c-4b5e-af2b-42749d9e0d9f button');\n",
              "      quickchartButtonEl.style.display =\n",
              "        google.colab.kernel.accessAllowed ? 'block' : 'none';\n",
              "    })();\n",
              "  </script>\n",
              "</div>\n",
              "    </div>\n",
              "  </div>\n"
            ]
          },
          "metadata": {},
          "execution_count": 4
        }
      ]
    },
    {
      "cell_type": "code",
      "source": [
        "data_empty_artist = data[data['artist_name']=='empty_field']\n",
        "data_empty_artist.head()"
      ],
      "metadata": {
        "colab": {
          "base_uri": "https://localhost:8080/",
          "height": 417
        },
        "id": "nZQUsHTpUEE-",
        "outputId": "7008c3a3-b4f9-4e8e-bf45-86e0a12363e0"
      },
      "execution_count": 5,
      "outputs": [
        {
          "output_type": "execute_result",
          "data": {
            "text/plain": [
              "       instance_id  artist_name  \\\n",
              "37189      50592.0  empty_field   \n",
              "37596      36723.0  empty_field   \n",
              "1538       67076.0  empty_field   \n",
              "25127      90803.0  empty_field   \n",
              "24759      65872.0  empty_field   \n",
              "\n",
              "                                             track_name  popularity  \\\n",
              "37189              Shadowplay - 2007 Remastered Version        59.0   \n",
              "37596                              Accidentally In Love        63.0   \n",
              "1538                                               Lucy        40.0   \n",
              "25127  Cold Shoulder (feat. YoungBoy Never Broke Again)        65.0   \n",
              "24759                                 Stand By Your Man        61.0   \n",
              "\n",
              "       acousticness  danceability  duration_ms  energy  instrumentalness key  \\\n",
              "37189      0.000997         0.433     233720.0   0.756          0.761000   A   \n",
              "37596      0.051100         0.554     188387.0   0.923          0.000015   G   \n",
              "1538       0.028900         0.680     252440.0   0.768          0.059200  C#   \n",
              "25127      0.002440         0.826     199508.0   0.492          0.000000  G#   \n",
              "24759      0.776000         0.563     157893.0   0.331          0.000846   A   \n",
              "\n",
              "       liveness  loudness   mode  speechiness               tempo  \\\n",
              "37189     0.124    -7.855  Major       0.0565  145.44299999999998   \n",
              "37596     0.191    -3.548  Major       0.0376             137.939   \n",
              "1538      0.403    -6.235  Major       0.2660             130.007   \n",
              "25127     0.230    -4.566  Major       0.1610  135.03799999999998   \n",
              "24759     0.125    -9.681  Major       0.0283  105.76100000000001   \n",
              "\n",
              "      obtained_date  valence music_genre  \n",
              "37189         4-Apr    0.117        Rock  \n",
              "37596         4-Apr    0.808        Rock  \n",
              "1538          4-Apr    0.313  Electronic  \n",
              "25127         4-Apr    0.127         Rap  \n",
              "24759         4-Apr    0.608     Country  "
            ],
            "text/html": [
              "\n",
              "  <div id=\"df-2d67657f-ae78-4af1-a9a8-24a118cf7a14\" class=\"colab-df-container\">\n",
              "    <div>\n",
              "<style scoped>\n",
              "    .dataframe tbody tr th:only-of-type {\n",
              "        vertical-align: middle;\n",
              "    }\n",
              "\n",
              "    .dataframe tbody tr th {\n",
              "        vertical-align: top;\n",
              "    }\n",
              "\n",
              "    .dataframe thead th {\n",
              "        text-align: right;\n",
              "    }\n",
              "</style>\n",
              "<table border=\"1\" class=\"dataframe\">\n",
              "  <thead>\n",
              "    <tr style=\"text-align: right;\">\n",
              "      <th></th>\n",
              "      <th>instance_id</th>\n",
              "      <th>artist_name</th>\n",
              "      <th>track_name</th>\n",
              "      <th>popularity</th>\n",
              "      <th>acousticness</th>\n",
              "      <th>danceability</th>\n",
              "      <th>duration_ms</th>\n",
              "      <th>energy</th>\n",
              "      <th>instrumentalness</th>\n",
              "      <th>key</th>\n",
              "      <th>liveness</th>\n",
              "      <th>loudness</th>\n",
              "      <th>mode</th>\n",
              "      <th>speechiness</th>\n",
              "      <th>tempo</th>\n",
              "      <th>obtained_date</th>\n",
              "      <th>valence</th>\n",
              "      <th>music_genre</th>\n",
              "    </tr>\n",
              "  </thead>\n",
              "  <tbody>\n",
              "    <tr>\n",
              "      <th>37189</th>\n",
              "      <td>50592.0</td>\n",
              "      <td>empty_field</td>\n",
              "      <td>Shadowplay - 2007 Remastered Version</td>\n",
              "      <td>59.0</td>\n",
              "      <td>0.000997</td>\n",
              "      <td>0.433</td>\n",
              "      <td>233720.0</td>\n",
              "      <td>0.756</td>\n",
              "      <td>0.761000</td>\n",
              "      <td>A</td>\n",
              "      <td>0.124</td>\n",
              "      <td>-7.855</td>\n",
              "      <td>Major</td>\n",
              "      <td>0.0565</td>\n",
              "      <td>145.44299999999998</td>\n",
              "      <td>4-Apr</td>\n",
              "      <td>0.117</td>\n",
              "      <td>Rock</td>\n",
              "    </tr>\n",
              "    <tr>\n",
              "      <th>37596</th>\n",
              "      <td>36723.0</td>\n",
              "      <td>empty_field</td>\n",
              "      <td>Accidentally In Love</td>\n",
              "      <td>63.0</td>\n",
              "      <td>0.051100</td>\n",
              "      <td>0.554</td>\n",
              "      <td>188387.0</td>\n",
              "      <td>0.923</td>\n",
              "      <td>0.000015</td>\n",
              "      <td>G</td>\n",
              "      <td>0.191</td>\n",
              "      <td>-3.548</td>\n",
              "      <td>Major</td>\n",
              "      <td>0.0376</td>\n",
              "      <td>137.939</td>\n",
              "      <td>4-Apr</td>\n",
              "      <td>0.808</td>\n",
              "      <td>Rock</td>\n",
              "    </tr>\n",
              "    <tr>\n",
              "      <th>1538</th>\n",
              "      <td>67076.0</td>\n",
              "      <td>empty_field</td>\n",
              "      <td>Lucy</td>\n",
              "      <td>40.0</td>\n",
              "      <td>0.028900</td>\n",
              "      <td>0.680</td>\n",
              "      <td>252440.0</td>\n",
              "      <td>0.768</td>\n",
              "      <td>0.059200</td>\n",
              "      <td>C#</td>\n",
              "      <td>0.403</td>\n",
              "      <td>-6.235</td>\n",
              "      <td>Major</td>\n",
              "      <td>0.2660</td>\n",
              "      <td>130.007</td>\n",
              "      <td>4-Apr</td>\n",
              "      <td>0.313</td>\n",
              "      <td>Electronic</td>\n",
              "    </tr>\n",
              "    <tr>\n",
              "      <th>25127</th>\n",
              "      <td>90803.0</td>\n",
              "      <td>empty_field</td>\n",
              "      <td>Cold Shoulder (feat. YoungBoy Never Broke Again)</td>\n",
              "      <td>65.0</td>\n",
              "      <td>0.002440</td>\n",
              "      <td>0.826</td>\n",
              "      <td>199508.0</td>\n",
              "      <td>0.492</td>\n",
              "      <td>0.000000</td>\n",
              "      <td>G#</td>\n",
              "      <td>0.230</td>\n",
              "      <td>-4.566</td>\n",
              "      <td>Major</td>\n",
              "      <td>0.1610</td>\n",
              "      <td>135.03799999999998</td>\n",
              "      <td>4-Apr</td>\n",
              "      <td>0.127</td>\n",
              "      <td>Rap</td>\n",
              "    </tr>\n",
              "    <tr>\n",
              "      <th>24759</th>\n",
              "      <td>65872.0</td>\n",
              "      <td>empty_field</td>\n",
              "      <td>Stand By Your Man</td>\n",
              "      <td>61.0</td>\n",
              "      <td>0.776000</td>\n",
              "      <td>0.563</td>\n",
              "      <td>157893.0</td>\n",
              "      <td>0.331</td>\n",
              "      <td>0.000846</td>\n",
              "      <td>A</td>\n",
              "      <td>0.125</td>\n",
              "      <td>-9.681</td>\n",
              "      <td>Major</td>\n",
              "      <td>0.0283</td>\n",
              "      <td>105.76100000000001</td>\n",
              "      <td>4-Apr</td>\n",
              "      <td>0.608</td>\n",
              "      <td>Country</td>\n",
              "    </tr>\n",
              "  </tbody>\n",
              "</table>\n",
              "</div>\n",
              "    <div class=\"colab-df-buttons\">\n",
              "\n",
              "  <div class=\"colab-df-container\">\n",
              "    <button class=\"colab-df-convert\" onclick=\"convertToInteractive('df-2d67657f-ae78-4af1-a9a8-24a118cf7a14')\"\n",
              "            title=\"Convert this dataframe to an interactive table.\"\n",
              "            style=\"display:none;\">\n",
              "\n",
              "  <svg xmlns=\"http://www.w3.org/2000/svg\" height=\"24px\" viewBox=\"0 -960 960 960\">\n",
              "    <path d=\"M120-120v-720h720v720H120Zm60-500h600v-160H180v160Zm220 220h160v-160H400v160Zm0 220h160v-160H400v160ZM180-400h160v-160H180v160Zm440 0h160v-160H620v160ZM180-180h160v-160H180v160Zm440 0h160v-160H620v160Z\"/>\n",
              "  </svg>\n",
              "    </button>\n",
              "\n",
              "  <style>\n",
              "    .colab-df-container {\n",
              "      display:flex;\n",
              "      gap: 12px;\n",
              "    }\n",
              "\n",
              "    .colab-df-convert {\n",
              "      background-color: #E8F0FE;\n",
              "      border: none;\n",
              "      border-radius: 50%;\n",
              "      cursor: pointer;\n",
              "      display: none;\n",
              "      fill: #1967D2;\n",
              "      height: 32px;\n",
              "      padding: 0 0 0 0;\n",
              "      width: 32px;\n",
              "    }\n",
              "\n",
              "    .colab-df-convert:hover {\n",
              "      background-color: #E2EBFA;\n",
              "      box-shadow: 0px 1px 2px rgba(60, 64, 67, 0.3), 0px 1px 3px 1px rgba(60, 64, 67, 0.15);\n",
              "      fill: #174EA6;\n",
              "    }\n",
              "\n",
              "    .colab-df-buttons div {\n",
              "      margin-bottom: 4px;\n",
              "    }\n",
              "\n",
              "    [theme=dark] .colab-df-convert {\n",
              "      background-color: #3B4455;\n",
              "      fill: #D2E3FC;\n",
              "    }\n",
              "\n",
              "    [theme=dark] .colab-df-convert:hover {\n",
              "      background-color: #434B5C;\n",
              "      box-shadow: 0px 1px 3px 1px rgba(0, 0, 0, 0.15);\n",
              "      filter: drop-shadow(0px 1px 2px rgba(0, 0, 0, 0.3));\n",
              "      fill: #FFFFFF;\n",
              "    }\n",
              "  </style>\n",
              "\n",
              "    <script>\n",
              "      const buttonEl =\n",
              "        document.querySelector('#df-2d67657f-ae78-4af1-a9a8-24a118cf7a14 button.colab-df-convert');\n",
              "      buttonEl.style.display =\n",
              "        google.colab.kernel.accessAllowed ? 'block' : 'none';\n",
              "\n",
              "      async function convertToInteractive(key) {\n",
              "        const element = document.querySelector('#df-2d67657f-ae78-4af1-a9a8-24a118cf7a14');\n",
              "        const dataTable =\n",
              "          await google.colab.kernel.invokeFunction('convertToInteractive',\n",
              "                                                    [key], {});\n",
              "        if (!dataTable) return;\n",
              "\n",
              "        const docLinkHtml = 'Like what you see? Visit the ' +\n",
              "          '<a target=\"_blank\" href=https://colab.research.google.com/notebooks/data_table.ipynb>data table notebook</a>'\n",
              "          + ' to learn more about interactive tables.';\n",
              "        element.innerHTML = '';\n",
              "        dataTable['output_type'] = 'display_data';\n",
              "        await google.colab.output.renderOutput(dataTable, element);\n",
              "        const docLink = document.createElement('div');\n",
              "        docLink.innerHTML = docLinkHtml;\n",
              "        element.appendChild(docLink);\n",
              "      }\n",
              "    </script>\n",
              "  </div>\n",
              "\n",
              "\n",
              "<div id=\"df-b1efc2e2-0e80-4fe9-b2cc-30b2090dc7bc\">\n",
              "  <button class=\"colab-df-quickchart\" onclick=\"quickchart('df-b1efc2e2-0e80-4fe9-b2cc-30b2090dc7bc')\"\n",
              "            title=\"Suggest charts\"\n",
              "            style=\"display:none;\">\n",
              "\n",
              "<svg xmlns=\"http://www.w3.org/2000/svg\" height=\"24px\"viewBox=\"0 0 24 24\"\n",
              "     width=\"24px\">\n",
              "    <g>\n",
              "        <path d=\"M19 3H5c-1.1 0-2 .9-2 2v14c0 1.1.9 2 2 2h14c1.1 0 2-.9 2-2V5c0-1.1-.9-2-2-2zM9 17H7v-7h2v7zm4 0h-2V7h2v10zm4 0h-2v-4h2v4z\"/>\n",
              "    </g>\n",
              "</svg>\n",
              "  </button>\n",
              "\n",
              "<style>\n",
              "  .colab-df-quickchart {\n",
              "      --bg-color: #E8F0FE;\n",
              "      --fill-color: #1967D2;\n",
              "      --hover-bg-color: #E2EBFA;\n",
              "      --hover-fill-color: #174EA6;\n",
              "      --disabled-fill-color: #AAA;\n",
              "      --disabled-bg-color: #DDD;\n",
              "  }\n",
              "\n",
              "  [theme=dark] .colab-df-quickchart {\n",
              "      --bg-color: #3B4455;\n",
              "      --fill-color: #D2E3FC;\n",
              "      --hover-bg-color: #434B5C;\n",
              "      --hover-fill-color: #FFFFFF;\n",
              "      --disabled-bg-color: #3B4455;\n",
              "      --disabled-fill-color: #666;\n",
              "  }\n",
              "\n",
              "  .colab-df-quickchart {\n",
              "    background-color: var(--bg-color);\n",
              "    border: none;\n",
              "    border-radius: 50%;\n",
              "    cursor: pointer;\n",
              "    display: none;\n",
              "    fill: var(--fill-color);\n",
              "    height: 32px;\n",
              "    padding: 0;\n",
              "    width: 32px;\n",
              "  }\n",
              "\n",
              "  .colab-df-quickchart:hover {\n",
              "    background-color: var(--hover-bg-color);\n",
              "    box-shadow: 0 1px 2px rgba(60, 64, 67, 0.3), 0 1px 3px 1px rgba(60, 64, 67, 0.15);\n",
              "    fill: var(--button-hover-fill-color);\n",
              "  }\n",
              "\n",
              "  .colab-df-quickchart-complete:disabled,\n",
              "  .colab-df-quickchart-complete:disabled:hover {\n",
              "    background-color: var(--disabled-bg-color);\n",
              "    fill: var(--disabled-fill-color);\n",
              "    box-shadow: none;\n",
              "  }\n",
              "\n",
              "  .colab-df-spinner {\n",
              "    border: 2px solid var(--fill-color);\n",
              "    border-color: transparent;\n",
              "    border-bottom-color: var(--fill-color);\n",
              "    animation:\n",
              "      spin 1s steps(1) infinite;\n",
              "  }\n",
              "\n",
              "  @keyframes spin {\n",
              "    0% {\n",
              "      border-color: transparent;\n",
              "      border-bottom-color: var(--fill-color);\n",
              "      border-left-color: var(--fill-color);\n",
              "    }\n",
              "    20% {\n",
              "      border-color: transparent;\n",
              "      border-left-color: var(--fill-color);\n",
              "      border-top-color: var(--fill-color);\n",
              "    }\n",
              "    30% {\n",
              "      border-color: transparent;\n",
              "      border-left-color: var(--fill-color);\n",
              "      border-top-color: var(--fill-color);\n",
              "      border-right-color: var(--fill-color);\n",
              "    }\n",
              "    40% {\n",
              "      border-color: transparent;\n",
              "      border-right-color: var(--fill-color);\n",
              "      border-top-color: var(--fill-color);\n",
              "    }\n",
              "    60% {\n",
              "      border-color: transparent;\n",
              "      border-right-color: var(--fill-color);\n",
              "    }\n",
              "    80% {\n",
              "      border-color: transparent;\n",
              "      border-right-color: var(--fill-color);\n",
              "      border-bottom-color: var(--fill-color);\n",
              "    }\n",
              "    90% {\n",
              "      border-color: transparent;\n",
              "      border-bottom-color: var(--fill-color);\n",
              "    }\n",
              "  }\n",
              "</style>\n",
              "\n",
              "  <script>\n",
              "    async function quickchart(key) {\n",
              "      const quickchartButtonEl =\n",
              "        document.querySelector('#' + key + ' button');\n",
              "      quickchartButtonEl.disabled = true;  // To prevent multiple clicks.\n",
              "      quickchartButtonEl.classList.add('colab-df-spinner');\n",
              "      try {\n",
              "        const charts = await google.colab.kernel.invokeFunction(\n",
              "            'suggestCharts', [key], {});\n",
              "      } catch (error) {\n",
              "        console.error('Error during call to suggestCharts:', error);\n",
              "      }\n",
              "      quickchartButtonEl.classList.remove('colab-df-spinner');\n",
              "      quickchartButtonEl.classList.add('colab-df-quickchart-complete');\n",
              "    }\n",
              "    (() => {\n",
              "      let quickchartButtonEl =\n",
              "        document.querySelector('#df-b1efc2e2-0e80-4fe9-b2cc-30b2090dc7bc button');\n",
              "      quickchartButtonEl.style.display =\n",
              "        google.colab.kernel.accessAllowed ? 'block' : 'none';\n",
              "    })();\n",
              "  </script>\n",
              "</div>\n",
              "    </div>\n",
              "  </div>\n"
            ]
          },
          "metadata": {},
          "execution_count": 5
        }
      ]
    },
    {
      "cell_type": "code",
      "source": [
        "data_empty_artist.shape[0]"
      ],
      "metadata": {
        "colab": {
          "base_uri": "https://localhost:8080/"
        },
        "id": "aiZggr7_U_UT",
        "outputId": "7ea64223-ae9d-484e-cf0f-2b24c9c1ab15"
      },
      "execution_count": 6,
      "outputs": [
        {
          "output_type": "execute_result",
          "data": {
            "text/plain": [
              "977"
            ]
          },
          "metadata": {},
          "execution_count": 6
        }
      ]
    },
    {
      "cell_type": "code",
      "source": [
        "data = data[data['artist_name']!='empty_field']\n",
        "data"
      ],
      "metadata": {
        "colab": {
          "base_uri": "https://localhost:8080/",
          "height": 669
        },
        "id": "po2bUpD1VEYk",
        "outputId": "703e207c-4010-4657-e968-4dbf24eaf622"
      },
      "execution_count": 7,
      "outputs": [
        {
          "output_type": "execute_result",
          "data": {
            "text/plain": [
              "       instance_id        artist_name  \\\n",
              "21939      47123.0    Chris Stapleton   \n",
              "6357       78025.0             May J.   \n",
              "11354      44406.0              Axian   \n",
              "46072      34898.0           A$AP Mob   \n",
              "23409      34591.0   Josh Abbott Band   \n",
              "...            ...                ...   \n",
              "26414      24224.0             Future   \n",
              "48115      32622.0     Arizona Zervas   \n",
              "5339       54852.0       Yuki Hayashi   \n",
              "15797      50415.0     Ryan Stevenson   \n",
              "4659       43076.0  Boaz van de Beatz   \n",
              "\n",
              "                                          track_name  popularity  \\\n",
              "21939  Last Thing I Needed, First Thing This Morning        57.0   \n",
              "6357                          I Will Always Love You        33.0   \n",
              "11354                                       Amazonas        41.0   \n",
              "46072                                  Feels So Good        59.0   \n",
              "23409                               She Will Be Free        35.0   \n",
              "...                                              ...         ...   \n",
              "26414                          WHEN I THINK ABOUT IT        52.0   \n",
              "48115                                         Swerve        58.0   \n",
              "5339                                          私が来た!!        33.0   \n",
              "15797                                     The Gospel        51.0   \n",
              "4659                                     No Way Home        35.0   \n",
              "\n",
              "       acousticness  danceability  duration_ms  energy  instrumentalness key  \\\n",
              "21939        0.7570         0.560     255027.0   0.261          0.000047   E   \n",
              "6357         0.7630         0.329     290844.0   0.352          0.000001   E   \n",
              "11354        0.4320         0.760     113279.0   0.424          0.712000   B   \n",
              "46072        0.3330         0.877     205267.0   0.375          0.010300  A#   \n",
              "23409        0.0380         0.439     257213.0   0.780          0.000000   D   \n",
              "...             ...           ...          ...     ...               ...  ..   \n",
              "26414        0.1340         0.523     184594.0   0.665          0.000000  F#   \n",
              "48115        0.1570         0.918     169718.0   0.834          0.000011   C   \n",
              "5339         0.3980         0.390         -1.0   0.881          0.904000   C   \n",
              "15797        0.0349         0.573     254262.0   0.661          0.000079   C   \n",
              "4659         0.0721         0.647     200094.0   0.913          0.000032   G   \n",
              "\n",
              "       liveness  loudness   mode  speechiness               tempo  \\\n",
              "21939    0.1240   -10.000  Major       0.0289              83.749   \n",
              "6357     0.2090    -9.611  Major       0.0365             131.322   \n",
              "11354    0.0836    -6.768  Minor       0.2200   85.03200000000001   \n",
              "46072    0.1010   -10.830  Major       0.3040              77.028   \n",
              "23409    0.1160    -4.643  Major       0.0395  174.00599999999997   \n",
              "...         ...       ...    ...          ...                 ...   \n",
              "26414    0.1380    -6.534  Minor       0.1510  155.07299999999998   \n",
              "48115    0.0651    -6.210  Major       0.0935             128.006   \n",
              "5339     0.1390    -5.509  Major       0.0968             157.711   \n",
              "15797    0.1120    -6.730  Minor       0.0517             153.907   \n",
              "4659     0.3470    -5.233  Minor       0.1010  154.97799999999998   \n",
              "\n",
              "      obtained_date  valence  music_genre  \n",
              "21939         3-Apr   0.2010      Country  \n",
              "6357          4-Apr   0.1540        Anime  \n",
              "11354         4-Apr   0.8320         Jazz  \n",
              "46072         4-Apr   0.0832      Hip-Hop  \n",
              "23409         4-Apr   0.1030      Country  \n",
              "...             ...      ...          ...  \n",
              "26414         4-Apr   0.5060          Rap  \n",
              "48115         4-Apr   0.8420      Hip-Hop  \n",
              "5339          3-Apr   0.5440        Anime  \n",
              "15797         4-Apr   0.6220  Alternative  \n",
              "4659          4-Apr   0.3610   Electronic  \n",
              "\n",
              "[19021 rows x 18 columns]"
            ],
            "text/html": [
              "\n",
              "  <div id=\"df-abb2cebf-b367-4ed7-b82d-d9bab3b7dd33\" class=\"colab-df-container\">\n",
              "    <div>\n",
              "<style scoped>\n",
              "    .dataframe tbody tr th:only-of-type {\n",
              "        vertical-align: middle;\n",
              "    }\n",
              "\n",
              "    .dataframe tbody tr th {\n",
              "        vertical-align: top;\n",
              "    }\n",
              "\n",
              "    .dataframe thead th {\n",
              "        text-align: right;\n",
              "    }\n",
              "</style>\n",
              "<table border=\"1\" class=\"dataframe\">\n",
              "  <thead>\n",
              "    <tr style=\"text-align: right;\">\n",
              "      <th></th>\n",
              "      <th>instance_id</th>\n",
              "      <th>artist_name</th>\n",
              "      <th>track_name</th>\n",
              "      <th>popularity</th>\n",
              "      <th>acousticness</th>\n",
              "      <th>danceability</th>\n",
              "      <th>duration_ms</th>\n",
              "      <th>energy</th>\n",
              "      <th>instrumentalness</th>\n",
              "      <th>key</th>\n",
              "      <th>liveness</th>\n",
              "      <th>loudness</th>\n",
              "      <th>mode</th>\n",
              "      <th>speechiness</th>\n",
              "      <th>tempo</th>\n",
              "      <th>obtained_date</th>\n",
              "      <th>valence</th>\n",
              "      <th>music_genre</th>\n",
              "    </tr>\n",
              "  </thead>\n",
              "  <tbody>\n",
              "    <tr>\n",
              "      <th>21939</th>\n",
              "      <td>47123.0</td>\n",
              "      <td>Chris Stapleton</td>\n",
              "      <td>Last Thing I Needed, First Thing This Morning</td>\n",
              "      <td>57.0</td>\n",
              "      <td>0.7570</td>\n",
              "      <td>0.560</td>\n",
              "      <td>255027.0</td>\n",
              "      <td>0.261</td>\n",
              "      <td>0.000047</td>\n",
              "      <td>E</td>\n",
              "      <td>0.1240</td>\n",
              "      <td>-10.000</td>\n",
              "      <td>Major</td>\n",
              "      <td>0.0289</td>\n",
              "      <td>83.749</td>\n",
              "      <td>3-Apr</td>\n",
              "      <td>0.2010</td>\n",
              "      <td>Country</td>\n",
              "    </tr>\n",
              "    <tr>\n",
              "      <th>6357</th>\n",
              "      <td>78025.0</td>\n",
              "      <td>May J.</td>\n",
              "      <td>I Will Always Love You</td>\n",
              "      <td>33.0</td>\n",
              "      <td>0.7630</td>\n",
              "      <td>0.329</td>\n",
              "      <td>290844.0</td>\n",
              "      <td>0.352</td>\n",
              "      <td>0.000001</td>\n",
              "      <td>E</td>\n",
              "      <td>0.2090</td>\n",
              "      <td>-9.611</td>\n",
              "      <td>Major</td>\n",
              "      <td>0.0365</td>\n",
              "      <td>131.322</td>\n",
              "      <td>4-Apr</td>\n",
              "      <td>0.1540</td>\n",
              "      <td>Anime</td>\n",
              "    </tr>\n",
              "    <tr>\n",
              "      <th>11354</th>\n",
              "      <td>44406.0</td>\n",
              "      <td>Axian</td>\n",
              "      <td>Amazonas</td>\n",
              "      <td>41.0</td>\n",
              "      <td>0.4320</td>\n",
              "      <td>0.760</td>\n",
              "      <td>113279.0</td>\n",
              "      <td>0.424</td>\n",
              "      <td>0.712000</td>\n",
              "      <td>B</td>\n",
              "      <td>0.0836</td>\n",
              "      <td>-6.768</td>\n",
              "      <td>Minor</td>\n",
              "      <td>0.2200</td>\n",
              "      <td>85.03200000000001</td>\n",
              "      <td>4-Apr</td>\n",
              "      <td>0.8320</td>\n",
              "      <td>Jazz</td>\n",
              "    </tr>\n",
              "    <tr>\n",
              "      <th>46072</th>\n",
              "      <td>34898.0</td>\n",
              "      <td>A$AP Mob</td>\n",
              "      <td>Feels So Good</td>\n",
              "      <td>59.0</td>\n",
              "      <td>0.3330</td>\n",
              "      <td>0.877</td>\n",
              "      <td>205267.0</td>\n",
              "      <td>0.375</td>\n",
              "      <td>0.010300</td>\n",
              "      <td>A#</td>\n",
              "      <td>0.1010</td>\n",
              "      <td>-10.830</td>\n",
              "      <td>Major</td>\n",
              "      <td>0.3040</td>\n",
              "      <td>77.028</td>\n",
              "      <td>4-Apr</td>\n",
              "      <td>0.0832</td>\n",
              "      <td>Hip-Hop</td>\n",
              "    </tr>\n",
              "    <tr>\n",
              "      <th>23409</th>\n",
              "      <td>34591.0</td>\n",
              "      <td>Josh Abbott Band</td>\n",
              "      <td>She Will Be Free</td>\n",
              "      <td>35.0</td>\n",
              "      <td>0.0380</td>\n",
              "      <td>0.439</td>\n",
              "      <td>257213.0</td>\n",
              "      <td>0.780</td>\n",
              "      <td>0.000000</td>\n",
              "      <td>D</td>\n",
              "      <td>0.1160</td>\n",
              "      <td>-4.643</td>\n",
              "      <td>Major</td>\n",
              "      <td>0.0395</td>\n",
              "      <td>174.00599999999997</td>\n",
              "      <td>4-Apr</td>\n",
              "      <td>0.1030</td>\n",
              "      <td>Country</td>\n",
              "    </tr>\n",
              "    <tr>\n",
              "      <th>...</th>\n",
              "      <td>...</td>\n",
              "      <td>...</td>\n",
              "      <td>...</td>\n",
              "      <td>...</td>\n",
              "      <td>...</td>\n",
              "      <td>...</td>\n",
              "      <td>...</td>\n",
              "      <td>...</td>\n",
              "      <td>...</td>\n",
              "      <td>...</td>\n",
              "      <td>...</td>\n",
              "      <td>...</td>\n",
              "      <td>...</td>\n",
              "      <td>...</td>\n",
              "      <td>...</td>\n",
              "      <td>...</td>\n",
              "      <td>...</td>\n",
              "      <td>...</td>\n",
              "    </tr>\n",
              "    <tr>\n",
              "      <th>26414</th>\n",
              "      <td>24224.0</td>\n",
              "      <td>Future</td>\n",
              "      <td>WHEN I THINK ABOUT IT</td>\n",
              "      <td>52.0</td>\n",
              "      <td>0.1340</td>\n",
              "      <td>0.523</td>\n",
              "      <td>184594.0</td>\n",
              "      <td>0.665</td>\n",
              "      <td>0.000000</td>\n",
              "      <td>F#</td>\n",
              "      <td>0.1380</td>\n",
              "      <td>-6.534</td>\n",
              "      <td>Minor</td>\n",
              "      <td>0.1510</td>\n",
              "      <td>155.07299999999998</td>\n",
              "      <td>4-Apr</td>\n",
              "      <td>0.5060</td>\n",
              "      <td>Rap</td>\n",
              "    </tr>\n",
              "    <tr>\n",
              "      <th>48115</th>\n",
              "      <td>32622.0</td>\n",
              "      <td>Arizona Zervas</td>\n",
              "      <td>Swerve</td>\n",
              "      <td>58.0</td>\n",
              "      <td>0.1570</td>\n",
              "      <td>0.918</td>\n",
              "      <td>169718.0</td>\n",
              "      <td>0.834</td>\n",
              "      <td>0.000011</td>\n",
              "      <td>C</td>\n",
              "      <td>0.0651</td>\n",
              "      <td>-6.210</td>\n",
              "      <td>Major</td>\n",
              "      <td>0.0935</td>\n",
              "      <td>128.006</td>\n",
              "      <td>4-Apr</td>\n",
              "      <td>0.8420</td>\n",
              "      <td>Hip-Hop</td>\n",
              "    </tr>\n",
              "    <tr>\n",
              "      <th>5339</th>\n",
              "      <td>54852.0</td>\n",
              "      <td>Yuki Hayashi</td>\n",
              "      <td>私が来た!!</td>\n",
              "      <td>33.0</td>\n",
              "      <td>0.3980</td>\n",
              "      <td>0.390</td>\n",
              "      <td>-1.0</td>\n",
              "      <td>0.881</td>\n",
              "      <td>0.904000</td>\n",
              "      <td>C</td>\n",
              "      <td>0.1390</td>\n",
              "      <td>-5.509</td>\n",
              "      <td>Major</td>\n",
              "      <td>0.0968</td>\n",
              "      <td>157.711</td>\n",
              "      <td>3-Apr</td>\n",
              "      <td>0.5440</td>\n",
              "      <td>Anime</td>\n",
              "    </tr>\n",
              "    <tr>\n",
              "      <th>15797</th>\n",
              "      <td>50415.0</td>\n",
              "      <td>Ryan Stevenson</td>\n",
              "      <td>The Gospel</td>\n",
              "      <td>51.0</td>\n",
              "      <td>0.0349</td>\n",
              "      <td>0.573</td>\n",
              "      <td>254262.0</td>\n",
              "      <td>0.661</td>\n",
              "      <td>0.000079</td>\n",
              "      <td>C</td>\n",
              "      <td>0.1120</td>\n",
              "      <td>-6.730</td>\n",
              "      <td>Minor</td>\n",
              "      <td>0.0517</td>\n",
              "      <td>153.907</td>\n",
              "      <td>4-Apr</td>\n",
              "      <td>0.6220</td>\n",
              "      <td>Alternative</td>\n",
              "    </tr>\n",
              "    <tr>\n",
              "      <th>4659</th>\n",
              "      <td>43076.0</td>\n",
              "      <td>Boaz van de Beatz</td>\n",
              "      <td>No Way Home</td>\n",
              "      <td>35.0</td>\n",
              "      <td>0.0721</td>\n",
              "      <td>0.647</td>\n",
              "      <td>200094.0</td>\n",
              "      <td>0.913</td>\n",
              "      <td>0.000032</td>\n",
              "      <td>G</td>\n",
              "      <td>0.3470</td>\n",
              "      <td>-5.233</td>\n",
              "      <td>Minor</td>\n",
              "      <td>0.1010</td>\n",
              "      <td>154.97799999999998</td>\n",
              "      <td>4-Apr</td>\n",
              "      <td>0.3610</td>\n",
              "      <td>Electronic</td>\n",
              "    </tr>\n",
              "  </tbody>\n",
              "</table>\n",
              "<p>19021 rows × 18 columns</p>\n",
              "</div>\n",
              "    <div class=\"colab-df-buttons\">\n",
              "\n",
              "  <div class=\"colab-df-container\">\n",
              "    <button class=\"colab-df-convert\" onclick=\"convertToInteractive('df-abb2cebf-b367-4ed7-b82d-d9bab3b7dd33')\"\n",
              "            title=\"Convert this dataframe to an interactive table.\"\n",
              "            style=\"display:none;\">\n",
              "\n",
              "  <svg xmlns=\"http://www.w3.org/2000/svg\" height=\"24px\" viewBox=\"0 -960 960 960\">\n",
              "    <path d=\"M120-120v-720h720v720H120Zm60-500h600v-160H180v160Zm220 220h160v-160H400v160Zm0 220h160v-160H400v160ZM180-400h160v-160H180v160Zm440 0h160v-160H620v160ZM180-180h160v-160H180v160Zm440 0h160v-160H620v160Z\"/>\n",
              "  </svg>\n",
              "    </button>\n",
              "\n",
              "  <style>\n",
              "    .colab-df-container {\n",
              "      display:flex;\n",
              "      gap: 12px;\n",
              "    }\n",
              "\n",
              "    .colab-df-convert {\n",
              "      background-color: #E8F0FE;\n",
              "      border: none;\n",
              "      border-radius: 50%;\n",
              "      cursor: pointer;\n",
              "      display: none;\n",
              "      fill: #1967D2;\n",
              "      height: 32px;\n",
              "      padding: 0 0 0 0;\n",
              "      width: 32px;\n",
              "    }\n",
              "\n",
              "    .colab-df-convert:hover {\n",
              "      background-color: #E2EBFA;\n",
              "      box-shadow: 0px 1px 2px rgba(60, 64, 67, 0.3), 0px 1px 3px 1px rgba(60, 64, 67, 0.15);\n",
              "      fill: #174EA6;\n",
              "    }\n",
              "\n",
              "    .colab-df-buttons div {\n",
              "      margin-bottom: 4px;\n",
              "    }\n",
              "\n",
              "    [theme=dark] .colab-df-convert {\n",
              "      background-color: #3B4455;\n",
              "      fill: #D2E3FC;\n",
              "    }\n",
              "\n",
              "    [theme=dark] .colab-df-convert:hover {\n",
              "      background-color: #434B5C;\n",
              "      box-shadow: 0px 1px 3px 1px rgba(0, 0, 0, 0.15);\n",
              "      filter: drop-shadow(0px 1px 2px rgba(0, 0, 0, 0.3));\n",
              "      fill: #FFFFFF;\n",
              "    }\n",
              "  </style>\n",
              "\n",
              "    <script>\n",
              "      const buttonEl =\n",
              "        document.querySelector('#df-abb2cebf-b367-4ed7-b82d-d9bab3b7dd33 button.colab-df-convert');\n",
              "      buttonEl.style.display =\n",
              "        google.colab.kernel.accessAllowed ? 'block' : 'none';\n",
              "\n",
              "      async function convertToInteractive(key) {\n",
              "        const element = document.querySelector('#df-abb2cebf-b367-4ed7-b82d-d9bab3b7dd33');\n",
              "        const dataTable =\n",
              "          await google.colab.kernel.invokeFunction('convertToInteractive',\n",
              "                                                    [key], {});\n",
              "        if (!dataTable) return;\n",
              "\n",
              "        const docLinkHtml = 'Like what you see? Visit the ' +\n",
              "          '<a target=\"_blank\" href=https://colab.research.google.com/notebooks/data_table.ipynb>data table notebook</a>'\n",
              "          + ' to learn more about interactive tables.';\n",
              "        element.innerHTML = '';\n",
              "        dataTable['output_type'] = 'display_data';\n",
              "        await google.colab.output.renderOutput(dataTable, element);\n",
              "        const docLink = document.createElement('div');\n",
              "        docLink.innerHTML = docLinkHtml;\n",
              "        element.appendChild(docLink);\n",
              "      }\n",
              "    </script>\n",
              "  </div>\n",
              "\n",
              "\n",
              "<div id=\"df-f7223e7f-7c6c-42a6-a716-6d2a65531c09\">\n",
              "  <button class=\"colab-df-quickchart\" onclick=\"quickchart('df-f7223e7f-7c6c-42a6-a716-6d2a65531c09')\"\n",
              "            title=\"Suggest charts\"\n",
              "            style=\"display:none;\">\n",
              "\n",
              "<svg xmlns=\"http://www.w3.org/2000/svg\" height=\"24px\"viewBox=\"0 0 24 24\"\n",
              "     width=\"24px\">\n",
              "    <g>\n",
              "        <path d=\"M19 3H5c-1.1 0-2 .9-2 2v14c0 1.1.9 2 2 2h14c1.1 0 2-.9 2-2V5c0-1.1-.9-2-2-2zM9 17H7v-7h2v7zm4 0h-2V7h2v10zm4 0h-2v-4h2v4z\"/>\n",
              "    </g>\n",
              "</svg>\n",
              "  </button>\n",
              "\n",
              "<style>\n",
              "  .colab-df-quickchart {\n",
              "      --bg-color: #E8F0FE;\n",
              "      --fill-color: #1967D2;\n",
              "      --hover-bg-color: #E2EBFA;\n",
              "      --hover-fill-color: #174EA6;\n",
              "      --disabled-fill-color: #AAA;\n",
              "      --disabled-bg-color: #DDD;\n",
              "  }\n",
              "\n",
              "  [theme=dark] .colab-df-quickchart {\n",
              "      --bg-color: #3B4455;\n",
              "      --fill-color: #D2E3FC;\n",
              "      --hover-bg-color: #434B5C;\n",
              "      --hover-fill-color: #FFFFFF;\n",
              "      --disabled-bg-color: #3B4455;\n",
              "      --disabled-fill-color: #666;\n",
              "  }\n",
              "\n",
              "  .colab-df-quickchart {\n",
              "    background-color: var(--bg-color);\n",
              "    border: none;\n",
              "    border-radius: 50%;\n",
              "    cursor: pointer;\n",
              "    display: none;\n",
              "    fill: var(--fill-color);\n",
              "    height: 32px;\n",
              "    padding: 0;\n",
              "    width: 32px;\n",
              "  }\n",
              "\n",
              "  .colab-df-quickchart:hover {\n",
              "    background-color: var(--hover-bg-color);\n",
              "    box-shadow: 0 1px 2px rgba(60, 64, 67, 0.3), 0 1px 3px 1px rgba(60, 64, 67, 0.15);\n",
              "    fill: var(--button-hover-fill-color);\n",
              "  }\n",
              "\n",
              "  .colab-df-quickchart-complete:disabled,\n",
              "  .colab-df-quickchart-complete:disabled:hover {\n",
              "    background-color: var(--disabled-bg-color);\n",
              "    fill: var(--disabled-fill-color);\n",
              "    box-shadow: none;\n",
              "  }\n",
              "\n",
              "  .colab-df-spinner {\n",
              "    border: 2px solid var(--fill-color);\n",
              "    border-color: transparent;\n",
              "    border-bottom-color: var(--fill-color);\n",
              "    animation:\n",
              "      spin 1s steps(1) infinite;\n",
              "  }\n",
              "\n",
              "  @keyframes spin {\n",
              "    0% {\n",
              "      border-color: transparent;\n",
              "      border-bottom-color: var(--fill-color);\n",
              "      border-left-color: var(--fill-color);\n",
              "    }\n",
              "    20% {\n",
              "      border-color: transparent;\n",
              "      border-left-color: var(--fill-color);\n",
              "      border-top-color: var(--fill-color);\n",
              "    }\n",
              "    30% {\n",
              "      border-color: transparent;\n",
              "      border-left-color: var(--fill-color);\n",
              "      border-top-color: var(--fill-color);\n",
              "      border-right-color: var(--fill-color);\n",
              "    }\n",
              "    40% {\n",
              "      border-color: transparent;\n",
              "      border-right-color: var(--fill-color);\n",
              "      border-top-color: var(--fill-color);\n",
              "    }\n",
              "    60% {\n",
              "      border-color: transparent;\n",
              "      border-right-color: var(--fill-color);\n",
              "    }\n",
              "    80% {\n",
              "      border-color: transparent;\n",
              "      border-right-color: var(--fill-color);\n",
              "      border-bottom-color: var(--fill-color);\n",
              "    }\n",
              "    90% {\n",
              "      border-color: transparent;\n",
              "      border-bottom-color: var(--fill-color);\n",
              "    }\n",
              "  }\n",
              "</style>\n",
              "\n",
              "  <script>\n",
              "    async function quickchart(key) {\n",
              "      const quickchartButtonEl =\n",
              "        document.querySelector('#' + key + ' button');\n",
              "      quickchartButtonEl.disabled = true;  // To prevent multiple clicks.\n",
              "      quickchartButtonEl.classList.add('colab-df-spinner');\n",
              "      try {\n",
              "        const charts = await google.colab.kernel.invokeFunction(\n",
              "            'suggestCharts', [key], {});\n",
              "      } catch (error) {\n",
              "        console.error('Error during call to suggestCharts:', error);\n",
              "      }\n",
              "      quickchartButtonEl.classList.remove('colab-df-spinner');\n",
              "      quickchartButtonEl.classList.add('colab-df-quickchart-complete');\n",
              "    }\n",
              "    (() => {\n",
              "      let quickchartButtonEl =\n",
              "        document.querySelector('#df-f7223e7f-7c6c-42a6-a716-6d2a65531c09 button');\n",
              "      quickchartButtonEl.style.display =\n",
              "        google.colab.kernel.accessAllowed ? 'block' : 'none';\n",
              "    })();\n",
              "  </script>\n",
              "</div>\n",
              "    </div>\n",
              "  </div>\n"
            ]
          },
          "metadata": {},
          "execution_count": 7
        }
      ]
    },
    {
      "cell_type": "markdown",
      "source": [
        "Вывод:\n",
        "\n",
        "Из датасета я взяла случайную выборку в 20000, в ней не оказалось дубликатов, однако в выборке было 977 строк с неизвестным исполнителем, они были удалены."
      ],
      "metadata": {
        "id": "bWgOzpLUgdR6"
      }
    },
    {
      "cell_type": "markdown",
      "source": [
        "### Задание 2\n",
        "\n",
        "1. Выведите долю каждого жанра в датасете.\n",
        "2. Покажите на горизонтальной столбиковой диаграмме распределение количества треков по жанрам. Выделите контрастным цветом жанр, в котором больше всего песен.\n",
        "3. Найдите самый танцевальный жанр. У самого танцевального жанра среднее значение показателя danceability должно быть наивысшим.\n",
        "4. Для каждого жанра определите, какая тональность в нем преобладает – количество треков какой тональность больше (минор или мажор)."
      ],
      "metadata": {
        "id": "P3BidIDExIrK"
      }
    },
    {
      "cell_type": "markdown",
      "source": [
        "Доля жанров"
      ],
      "metadata": {
        "id": "O3y4Ue2Rg9rk"
      }
    },
    {
      "cell_type": "code",
      "source": [
        "data.groupby(['music_genre'])['music_genre'].count()/data.shape[0]"
      ],
      "metadata": {
        "colab": {
          "base_uri": "https://localhost:8080/"
        },
        "id": "sS6gVmqhVx-D",
        "outputId": "46899dee-543a-41ec-9932-2d035e2f1a86"
      },
      "execution_count": 8,
      "outputs": [
        {
          "output_type": "execute_result",
          "data": {
            "text/plain": [
              "music_genre\n",
              "Alternative    0.100520\n",
              "Anime          0.097156\n",
              "Blues          0.101309\n",
              "Classical      0.099522\n",
              "Country        0.099101\n",
              "Electronic     0.101204\n",
              "Hip-Hop        0.099784\n",
              "Jazz           0.099259\n",
              "Rap            0.101572\n",
              "Rock           0.100520\n",
              "Name: music_genre, dtype: float64"
            ]
          },
          "metadata": {},
          "execution_count": 8
        }
      ]
    },
    {
      "cell_type": "code",
      "source": [
        "count_by_genre = data.groupby(['music_genre'])['music_genre'].count()\n",
        "count_by_genre"
      ],
      "metadata": {
        "colab": {
          "base_uri": "https://localhost:8080/"
        },
        "id": "VRUhknqWVx2k",
        "outputId": "fd48ba6f-137a-4205-cc5d-e43cb32ff938"
      },
      "execution_count": 9,
      "outputs": [
        {
          "output_type": "execute_result",
          "data": {
            "text/plain": [
              "music_genre\n",
              "Alternative    1912\n",
              "Anime          1848\n",
              "Blues          1927\n",
              "Classical      1893\n",
              "Country        1885\n",
              "Electronic     1925\n",
              "Hip-Hop        1898\n",
              "Jazz           1888\n",
              "Rap            1932\n",
              "Rock           1912\n",
              "Name: music_genre, dtype: int64"
            ]
          },
          "metadata": {},
          "execution_count": 9
        }
      ]
    },
    {
      "cell_type": "code",
      "source": [
        "colors = [sns.color_palette('pastel')[0]] * len(count_by_genre)\n",
        "colors[count_by_genre.argmax()] = 'red'"
      ],
      "metadata": {
        "id": "rgz0x0zdZj9f"
      },
      "execution_count": 10,
      "outputs": []
    },
    {
      "cell_type": "code",
      "source": [
        "fig, ax = plt.subplots(figsize=(10, 5))\n",
        "plt.barh(count_by_genre.index, count_by_genre.values, color=colors)\n",
        "plt.xlim(1500, 2000)\n",
        "plt.title('Количество треков по жанрам')\n",
        "plt.ylabel('Жанры музыки')\n",
        "plt.xlabel('Количество треков')\n",
        "plt.show()"
      ],
      "metadata": {
        "id": "0j2MWLdoytCV",
        "colab": {
          "base_uri": "https://localhost:8080/",
          "height": 487
        },
        "outputId": "cd9685e0-e9e6-4ee4-8466-617904b323f6"
      },
      "execution_count": 11,
      "outputs": [
        {
          "output_type": "display_data",
          "data": {
            "text/plain": [
              "<Figure size 1000x500 with 1 Axes>"
            ],
            "image/png": "[encoded data removed]"
          },
          "metadata": {}
        }
      ]
    },
    {
      "cell_type": "markdown",
      "source": [
        "Танцевальность"
      ],
      "metadata": {
        "id": "KkU09daEa3EQ"
      }
    },
    {
      "cell_type": "code",
      "source": [
        "danceability_by_genre = data.groupby('music_genre')['danceability'].mean()\n",
        "danceability_by_genre"
      ],
      "metadata": {
        "colab": {
          "base_uri": "https://localhost:8080/"
        },
        "id": "9dsR0S0Fam0w",
        "outputId": "830629c6-bb3e-41d5-9469-0e7eb23903f8"
      },
      "execution_count": 12,
      "outputs": [
        {
          "output_type": "execute_result",
          "data": {
            "text/plain": [
              "music_genre\n",
              "Alternative    0.546413\n",
              "Anime          0.470633\n",
              "Blues          0.524889\n",
              "Classical      0.308581\n",
              "Country        0.575800\n",
              "Electronic     0.621958\n",
              "Hip-Hop        0.714525\n",
              "Jazz           0.583279\n",
              "Rap            0.702294\n",
              "Rock           0.536154\n",
              "Name: danceability, dtype: float64"
            ]
          },
          "metadata": {},
          "execution_count": 12
        }
      ]
    },
    {
      "cell_type": "code",
      "source": [
        "danceability_by_genre.index[danceability_by_genre.argmax()]"
      ],
      "metadata": {
        "colab": {
          "base_uri": "https://localhost:8080/",
          "height": 36
        },
        "id": "ljh83XW_bH0s",
        "outputId": "3e571163-a6a9-429a-a7f9-11c3b7f7ce55"
      },
      "execution_count": 13,
      "outputs": [
        {
          "output_type": "execute_result",
          "data": {
            "text/plain": [
              "'Hip-Hop'"
            ],
            "application/vnd.google.colaboratory.intrinsic+json": {
              "type": "string"
            }
          },
          "metadata": {},
          "execution_count": 13
        }
      ]
    },
    {
      "cell_type": "code",
      "source": [
        "mode_by_genre = data.groupby(['music_genre', 'mode'])['mode'].count()"
      ],
      "metadata": {
        "id": "lT4KcaVYbsbI"
      },
      "execution_count": 14,
      "outputs": []
    },
    {
      "cell_type": "code",
      "source": [
        "mode_by_genre"
      ],
      "metadata": {
        "colab": {
          "base_uri": "https://localhost:8080/"
        },
        "id": "MpPgVk2ccDFD",
        "outputId": "5edfbe11-bd40-4282-93b1-1886c81a261a"
      },
      "execution_count": 15,
      "outputs": [
        {
          "output_type": "execute_result",
          "data": {
            "text/plain": [
              "music_genre  mode \n",
              "Alternative  Major    1159\n",
              "             Minor     753\n",
              "Anime        Major    1154\n",
              "             Minor     694\n",
              "Blues        Major    1374\n",
              "             Minor     553\n",
              "Classical    Major    1245\n",
              "             Minor     648\n",
              "Country      Major    1624\n",
              "             Minor     261\n",
              "Electronic   Major    1036\n",
              "             Minor     889\n",
              "Hip-Hop      Major    1038\n",
              "             Minor     860\n",
              "Jazz         Major    1003\n",
              "             Minor     885\n",
              "Rap          Major    1054\n",
              "             Minor     878\n",
              "Rock         Major    1419\n",
              "             Minor     493\n",
              "Name: mode, dtype: int64"
            ]
          },
          "metadata": {},
          "execution_count": 15
        }
      ]
    },
    {
      "cell_type": "markdown",
      "source": [
        "Вывод:\n",
        "\n",
        "Судя по построенной столбчатой диаграмме, жанр с наибольшим количеством треков - Rap. Самый танцевальный жанр = Hip-Hop (самая высокая средняя \"танцевальность\" по трекам).\n",
        "Также я выяснила, что во всех жанрах преобладающим ладом является Мажор."
      ],
      "metadata": {
        "id": "V0507TWZhLCv"
      }
    },
    {
      "cell_type": "markdown",
      "source": [
        "### Задание 3\n",
        "\n",
        "1. Выведите исполнителя, у которого больше всего треков в датасете. И того, у которого их меньше всех.\n",
        "2. Покажите на горизонтральной столбиковой диаграмме топ-20 исполнителей. Изучите результат и сделайте выводы."
      ],
      "metadata": {
        "id": "UFsKd07syxWI"
      }
    },
    {
      "cell_type": "code",
      "source": [
        "count_by_artist = data.groupby('artist_name')['instance_id'].count().sort_values(ascending=False)\n",
        "count_by_artist[:20]"
      ],
      "metadata": {
        "id": "jm6uJLiPzS_1",
        "colab": {
          "base_uri": "https://localhost:8080/"
        },
        "outputId": "057b46dd-9ff8-4ffc-9322-f06644ffe7ce"
      },
      "execution_count": 16,
      "outputs": [
        {
          "output_type": "execute_result",
          "data": {
            "text/plain": [
              "artist_name\n",
              "Wolfgang Amadeus Mozart     169\n",
              "Nobuo Uematsu               153\n",
              "Johann Sebastian Bach       131\n",
              "Ludwig van Beethoven        117\n",
              "Frédéric Chopin              96\n",
              "Yuki Hayashi                 75\n",
              "Capcom Sound Team            73\n",
              "Drake                        65\n",
              "Future                       56\n",
              "Eminem                       55\n",
              "Pyotr Ilyich Tchaikovsky     51\n",
              "The Black Keys               48\n",
              "Jamiroquai                   44\n",
              "Thievery Corporation         44\n",
              "Logic                        44\n",
              "Ryuichi Sakamoto             40\n",
              "Antonín Dvořák               39\n",
              "Kevin Gates                  39\n",
              "Kendrick Lamar               38\n",
              "Claude Debussy               38\n",
              "Name: instance_id, dtype: int64"
            ]
          },
          "metadata": {},
          "execution_count": 16
        }
      ]
    },
    {
      "cell_type": "code",
      "source": [
        "count_by_artist.index[0]"
      ],
      "metadata": {
        "colab": {
          "base_uri": "https://localhost:8080/",
          "height": 36
        },
        "id": "3GF_8EtHdWeS",
        "outputId": "55ee7e89-9d90-4940-dcc1-fe596f1cb4b2"
      },
      "execution_count": 17,
      "outputs": [
        {
          "output_type": "execute_result",
          "data": {
            "text/plain": [
              "'Wolfgang Amadeus Mozart'"
            ],
            "application/vnd.google.colaboratory.intrinsic+json": {
              "type": "string"
            }
          },
          "metadata": {},
          "execution_count": 17
        }
      ]
    },
    {
      "cell_type": "code",
      "source": [
        "count_by_artist.index[-1]"
      ],
      "metadata": {
        "colab": {
          "base_uri": "https://localhost:8080/",
          "height": 36
        },
        "id": "Ij16C-Cjeo2J",
        "outputId": "5045e9ec-e49e-44f3-b6ee-5c36cf59a0eb"
      },
      "execution_count": 18,
      "outputs": [
        {
          "output_type": "execute_result",
          "data": {
            "text/plain": [
              "'Milt Jackson'"
            ],
            "application/vnd.google.colaboratory.intrinsic+json": {
              "type": "string"
            }
          },
          "metadata": {},
          "execution_count": 18
        }
      ]
    },
    {
      "cell_type": "code",
      "source": [
        "fig, ax = plt.subplots(figsize=(15, 7))\n",
        "ax.barh(count_by_artist.index[20::-1], count_by_artist.values[20::-1])\n",
        "sns.set_palette(\"Set2\")\n",
        "plt.title('Топ-20 исполнителей по количеству треков')\n",
        "plt.ylabel('Исполнители')\n",
        "plt.xlabel('Количество треков')\n",
        "plt.show()"
      ],
      "metadata": {
        "colab": {
          "base_uri": "https://localhost:8080/",
          "height": 514
        },
        "id": "uZ4ku8v-dblq",
        "outputId": "55300694-9693-4dc8-cb4a-ee5ad4a204b3"
      },
      "execution_count": 19,
      "outputs": [
        {
          "output_type": "display_data",
          "data": {
            "text/plain": [
              "<Figure size 1500x700 with 1 Axes>"
            ],
            "image/png": "[encoded data removed]"
          },
          "metadata": {}
        }
      ]
    },
    {
      "cell_type": "markdown",
      "source": [
        "Вывод:\n",
        "\n",
        "Больше всех треков в датасете у исполнителя Wolfgang Amadeus Mozart - 169, самое маленькое количество треков у Milt Jackson - 1.\n",
        "Можно заметить, что в топ-20 исполнителей много классических исполнителей - Моцарт, Бетховен, Дебюсси и др.\n"
      ],
      "metadata": {
        "id": "bZfAFmIOh7WV"
      }
    },
    {
      "cell_type": "markdown",
      "metadata": {
        "id": "pjBj8HWkr1nI"
      },
      "source": [
        "### Задание 4"
      ]
    },
    {
      "cell_type": "markdown",
      "metadata": {
        "id": "u3nyqiKmwj2F"
      },
      "source": [
        "1. Постройте корреляционную матрицу для характеристик треков. Между какими характеристиками сильная корреляция? Между какими слабая? Есть ли характеристики, между которыми корреляции практически нет.\n",
        "2. Посчитайте корреляцию между популярностью (popularity) и длиной названия трека."
      ]
    },
    {
      "cell_type": "code",
      "metadata": {
        "id": "QN6HDuT9rtVz",
        "colab": {
          "base_uri": "https://localhost:8080/",
          "height": 800
        },
        "outputId": "44b9b82f-1c98-41e0-ac04-4f6c7e32d472"
      },
      "source": [
        "cor_matrix = data.drop('instance_id', axis=1).corr()\n",
        "fig, ax = plt.subplots(figsize=(10, 7))\n",
        "plt.title('Корреляционная матрица характеристик треков')\n",
        "sns.heatmap(data=cor_matrix, annot=True, cmap=\"YlGnBu\")"
      ],
      "execution_count": 20,
      "outputs": [
        {
          "output_type": "stream",
          "name": "stderr",
          "text": [
            "<ipython-input-20-70efb679c524>:1: FutureWarning: The default value of numeric_only in DataFrame.corr is deprecated. In a future version, it will default to False. Select only valid columns or specify the value of numeric_only to silence this warning.\n",
            "  cor_matrix = data.drop('instance_id', axis=1).corr()\n"
          ]
        },
        {
          "output_type": "execute_result",
          "data": {
            "text/plain": [
              "<Axes: title={'center': 'Корреляционная матрица характеристик треков'}>"
            ]
          },
          "metadata": {},
          "execution_count": 20
        },
        {
          "output_type": "display_data",
          "data": {
            "text/plain": [
              "<Figure size 1000x700 with 2 Axes>"
            ],
            "image/png": "[encoded data removed]"
          },
          "metadata": {}
        }
      ]
    },
    {
      "cell_type": "code",
      "source": [
        "name_lengths = pd.Series([len(str(name)) for name in data['track_name']])"
      ],
      "metadata": {
        "id": "V8NRnI8QkY2y"
      },
      "execution_count": 21,
      "outputs": []
    },
    {
      "cell_type": "code",
      "source": [
        "data.reset_index()['popularity'].corr(name_lengths)"
      ],
      "metadata": {
        "colab": {
          "base_uri": "https://localhost:8080/"
        },
        "id": "Vqbt4mIwq83q",
        "outputId": "4004946b-8059-4d72-d717-fb3538f1770d"
      },
      "execution_count": 22,
      "outputs": [
        {
          "output_type": "execute_result",
          "data": {
            "text/plain": [
              "-0.2283499596545673"
            ]
          },
          "metadata": {},
          "execution_count": 22
        }
      ]
    },
    {
      "cell_type": "markdown",
      "source": [
        "Я построила корреляционную матрицу для характеристик треков. Довольно сильная корреляция наблюдается между столбцами \"energy\" и \"loudness\", это значит, что громкая музыка воспринимается слушателями как более энергичная. Также некоторая корреляция есть между \"acousticness\" и \"instrumentalness\", \"dancebility\" и \"valence\".\n",
        "\n",
        "Также есть характеристики, между которыми почти нет корреляции, признаки, которые почти не коррелируют с другими: \"liveness\" и \"duration_ms\".\n",
        "\n",
        "Между популярностью (popularity) и длиной названия трека есть слабая отрицательная корреляция: -0.228. Это значит, что короткие треки возможно склонны становиться более популярными."
      ],
      "metadata": {
        "id": "Pjhzb_Ctlg70"
      }
    },
    {
      "cell_type": "markdown",
      "metadata": {
        "id": "0ygsFcLSwrTt"
      },
      "source": [
        "### Задание 5\n",
        "\n",
        "Покажите на ящиковой диаграмме отношение популярности треков к жанру. Какие жанры похожи между собой?"
      ]
    },
    {
      "cell_type": "code",
      "source": [
        "genres = data['music_genre'].unique()\n",
        "genres = genres[:-1]\n",
        "genres"
      ],
      "metadata": {
        "colab": {
          "base_uri": "https://localhost:8080/"
        },
        "id": "9BEdcLTdsYMc",
        "outputId": "ea8f8e9e-b515-486a-dd5b-2d1e4bc3bd85"
      },
      "execution_count": 23,
      "outputs": [
        {
          "output_type": "execute_result",
          "data": {
            "text/plain": [
              "array(['Country', 'Anime', 'Jazz', 'Hip-Hop', 'Rock', 'Blues', 'Rap',\n",
              "       'Classical', 'Electronic', 'Alternative'], dtype=object)"
            ]
          },
          "metadata": {},
          "execution_count": 23
        }
      ]
    },
    {
      "cell_type": "code",
      "source": [
        "plt.figure(figsize=(10, 6))\n",
        "sns.set_palette('deep')\n",
        "sns.boxplot(x=\"music_genre\", y=\"popularity\", data=data)\n",
        "plt.title('Отношение популярности треков к жанру')\n",
        "plt.xlabel('Жанр')\n",
        "plt.ylabel('Популярность трека')\n",
        "plt.xticks(rotation=45)\n",
        "plt.tight_layout()\n",
        "plt.show()"
      ],
      "metadata": {
        "colab": {
          "base_uri": "https://localhost:8080/",
          "height": 607
        },
        "id": "IDJhFTWpsFDP",
        "outputId": "baf2732e-10b6-48c5-d111-3c3376a3448c"
      },
      "execution_count": 24,
      "outputs": [
        {
          "output_type": "display_data",
          "data": {
            "text/plain": [
              "<Figure size 1000x600 with 1 Axes>"
            ],
            "image/png": "[encoded data removed]"
          },
          "metadata": {}
        }
      ]
    },
    {
      "cell_type": "markdown",
      "source": [
        "Вывод:\n",
        "\n",
        "Самыми популярными оказались жанры Хип-Хоп и Рэп, а также Рок. У них близкие средние значения и разбросы. Среди наименее популярных - Аниме и Классика. По распределению похожи жанры Джаз и Альтернативный."
      ],
      "metadata": {
        "id": "1rlXJ-RoylHb"
      }
    },
    {
      "cell_type": "markdown",
      "metadata": {
        "id": "zrX_7sX_wrd-"
      },
      "source": [
        "### Задание 6"
      ]
    },
    {
      "cell_type": "markdown",
      "metadata": {
        "id": "-YxfmmMSwrd_"
      },
      "source": [
        "Для топ-3 жанров покажите на круговой диаграмме с группировкой самого популярного исполнителя. Диаграмма должна быть одна."
      ]
    },
    {
      "cell_type": "code",
      "source": [
        "top_3_genres = data.groupby('music_genre')['popularity'].mean().sort_values(ascending=False).index[:3]"
      ],
      "metadata": {
        "id": "lDTTdjVSAgx6"
      },
      "execution_count": 25,
      "outputs": []
    },
    {
      "cell_type": "code",
      "source": [
        "top_3_genres"
      ],
      "metadata": {
        "colab": {
          "base_uri": "https://localhost:8080/"
        },
        "id": "W_hvgco8C2c8",
        "outputId": "6580ed60-14bd-4c06-e71e-e2ab1f8f5c54"
      },
      "execution_count": 26,
      "outputs": [
        {
          "output_type": "execute_result",
          "data": {
            "text/plain": [
              "Index(['Rap', 'Rock', 'Hip-Hop'], dtype='object', name='music_genre')"
            ]
          },
          "metadata": {},
          "execution_count": 26
        }
      ]
    },
    {
      "cell_type": "code",
      "source": [
        "top_artists = {}\n",
        "for genre in top_3_genres:\n",
        "    top_artists[genre] = data.groupby(['music_genre', 'artist_name'])['popularity'].mean()[genre].index[:1].values[0]\n",
        "top_artists"
      ],
      "metadata": {
        "colab": {
          "base_uri": "https://localhost:8080/"
        },
        "id": "L7NUg-QBCMQl",
        "outputId": "b55ab569-c013-4f73-cd6f-4ca8063490b8"
      },
      "execution_count": 27,
      "outputs": [
        {
          "output_type": "execute_result",
          "data": {
            "text/plain": [
              "{'Rap': '$uicideBoy$', 'Rock': '\"Weird Al\" Yankovic', 'Hip-Hop': '$NOT'}"
            ]
          },
          "metadata": {},
          "execution_count": 27
        }
      ]
    },
    {
      "cell_type": "code",
      "source": [
        "labels = [str(genre) + ' - ' + str(top_artists[genre]) for genre in top_artists]\n",
        "list(top_artists.keys())\n",
        "sizes = [data[(data['music_genre'] == genre) & (data['artist_name'] == artist)].shape[0] for genre, artist in top_artists.items()]"
      ],
      "metadata": {
        "id": "YbygCXiPEair"
      },
      "execution_count": 28,
      "outputs": []
    },
    {
      "cell_type": "code",
      "source": [
        "plt.figure(figsize=(8, 6))\n",
        "plt.pie(sizes, labels=labels, autopct='%1.1f%%', startangle=140)\n",
        "plt.axis('equal')\n",
        "plt.title('Самые популярные исполнители по топ-3 жанрам')\n",
        "\n",
        "plt.show()"
      ],
      "metadata": {
        "colab": {
          "base_uri": "https://localhost:8080/",
          "height": 526
        },
        "id": "fumx7nDkEm6p",
        "outputId": "94680cc6-aa14-44a7-81e5-25fe2d79c2f1"
      },
      "execution_count": 29,
      "outputs": [
        {
          "output_type": "display_data",
          "data": {
            "text/plain": [
              "<Figure size 800x600 with 1 Axes>"
            ],
            "image/png": "[encoded data removed]"
          },
          "metadata": {}
        }
      ]
    },
    {
      "cell_type": "markdown",
      "metadata": {
        "id": "xSf_PxzKwrmy"
      },
      "source": [
        "### Задание 7"
      ]
    },
    {
      "cell_type": "markdown",
      "metadata": {
        "id": "XfsIogcJwrmz"
      },
      "source": [
        "На вертикальной столбиковой диаграмме для самого популярного (popularity) и самого непопулярного жанров покажите средние значения по всем характеристикам. Отрицательные и положительные значения характеристик показывайте разными цветами."
      ]
    },
    {
      "cell_type": "markdown",
      "source": [
        "Нормализуем числовые значения"
      ],
      "metadata": {
        "id": "NGaxm-iqnTO0"
      }
    },
    {
      "cell_type": "code",
      "source": [
        "most_popular_genre = data.groupby('music_genre')['popularity'].mean().idxmax()\n",
        "least_popular_genre = data.groupby('music_genre')['popularity'].mean().idxmin()\n",
        "\n",
        "most_popular_data = data[data['music_genre'] == most_popular_genre].drop(['instance_id', 'duration_ms'], axis=1).mean(numeric_only=True)\n",
        "least_popular_data = data[data['music_genre'] == least_popular_genre].drop(['instance_id', 'duration_ms'], axis=1).mean(numeric_only=True)\n",
        "\n",
        "most_popular_data"
      ],
      "metadata": {
        "colab": {
          "base_uri": "https://localhost:8080/"
        },
        "id": "Xf9n7-3xLjY5",
        "outputId": "3a04ccd6-9827-45c3-98a3-11fa807a2e83"
      },
      "execution_count": 71,
      "outputs": [
        {
          "output_type": "execute_result",
          "data": {
            "text/plain": [
              "popularity          60.445652\n",
              "acousticness         0.165624\n",
              "danceability         0.702294\n",
              "energy               0.647658\n",
              "instrumentalness     0.007689\n",
              "liveness             0.198604\n",
              "loudness            -6.724589\n",
              "speechiness          0.190027\n",
              "valence              0.455211\n",
              "dtype: float64"
            ]
          },
          "metadata": {},
          "execution_count": 71
        }
      ]
    },
    {
      "cell_type": "code",
      "source": [
        "most_popular_colors = [sns.color_palette('deep')[0] if most_popular_data[i] >= 0 else sns.color_palette('deep')[1] for i in most_popular_data.index]\n",
        "least_popular_colors = [sns.color_palette('deep')[0] if least_popular_data[i] >= 0 else sns.color_palette('deep')[1] for i in least_popular_data.index]\n",
        "least_popular_colors"
      ],
      "metadata": {
        "colab": {
          "base_uri": "https://localhost:8080/"
        },
        "id": "iQnXqY00NAhT",
        "outputId": "ca006389-0366-430e-885c-9a607fdf80f0"
      },
      "execution_count": 72,
      "outputs": [
        {
          "output_type": "execute_result",
          "data": {
            "text/plain": [
              "[(0.2980392156862745, 0.4470588235294118, 0.6901960784313725),\n",
              " (0.2980392156862745, 0.4470588235294118, 0.6901960784313725),\n",
              " (0.2980392156862745, 0.4470588235294118, 0.6901960784313725),\n",
              " (0.2980392156862745, 0.4470588235294118, 0.6901960784313725),\n",
              " (0.2980392156862745, 0.4470588235294118, 0.6901960784313725),\n",
              " (0.2980392156862745, 0.4470588235294118, 0.6901960784313725),\n",
              " (0.8666666666666667, 0.5176470588235295, 0.3215686274509804),\n",
              " (0.2980392156862745, 0.4470588235294118, 0.6901960784313725),\n",
              " (0.2980392156862745, 0.4470588235294118, 0.6901960784313725)]"
            ]
          },
          "metadata": {},
          "execution_count": 72
        }
      ]
    },
    {
      "cell_type": "code",
      "metadata": {
        "id": "_qfk7y5Mwrmz",
        "colab": {
          "base_uri": "https://localhost:8080/",
          "height": 703
        },
        "outputId": "955af60e-4d46-4554-b2eb-a5c603fe8147"
      },
      "source": [
        "fig, axis = plt.subplots(1, 2, figsize=(15, 6))\n",
        "axis[0].bar(most_popular_data.index, most_popular_data.values, color=most_popular_colors)\n",
        "axis[0].set_xticklabels(most_popular_data.index, rotation=70)\n",
        "axis[0].set_ylim(-10, 61)\n",
        "axis[0].set_title(f'{most_popular_genre}', fontsize=14)\n",
        "axis[0].set_ylabel('Значение')\n",
        "axis[0].set_xlabel('Характеристики')\n",
        "axis[1].bar(least_popular_data.index, least_popular_data.values, color=least_popular_colors)\n",
        "axis[1].set_xticklabels(least_popular_data.index, rotation=70)\n",
        "axis[1].set_ylim(-10, 61)\n",
        "axis[1].set_title(f'{least_popular_genre}', fontsize=14)\n",
        "axis[1].set_xlabel('Характеристики')\n",
        "plt.suptitle('Средние значения по характеристикам жанров', fontsize=16)\n",
        "plt.show()"
      ],
      "execution_count": 88,
      "outputs": [
        {
          "output_type": "stream",
          "name": "stderr",
          "text": [
            "<ipython-input-88-580b9e612626>:3: UserWarning: FixedFormatter should only be used together with FixedLocator\n",
            "  axis[0].set_xticklabels(most_popular_data.index, rotation=70)\n",
            "<ipython-input-88-580b9e612626>:9: UserWarning: FixedFormatter should only be used together with FixedLocator\n",
            "  axis[1].set_xticklabels(least_popular_data.index, rotation=70)\n"
          ]
        },
        {
          "output_type": "display_data",
          "data": {
            "text/plain": [
              "<Figure size 1500x600 with 2 Axes>"
            ],
            "image/png": "[encoded data removed]"
          },
          "metadata": {}
        }
      ]
    },
    {
      "cell_type": "markdown",
      "metadata": {
        "id": "CxGr4PzCwrvk"
      },
      "source": [
        "### Задание 8"
      ]
    },
    {
      "cell_type": "markdown",
      "metadata": {
        "id": "40NA2CMZwrvk"
      },
      "source": [
        "1. Добавьте в данные категориальный столбец `длительность_трека`, в котором будут значения: \"короткая\" (<=3min), \"средняя\" (>3min, <=5min), \"длинная\" (>5min).\n",
        "2. Покажите график плотности распределения данных в столбце `loudness`, сгруппированных по категориям длительности.\n",
        "3. На круговой диаграмме вида \"пончик\" покажите численное соотношение треков разной длительности."
      ]
    },
    {
      "cell_type": "code",
      "source": [
        "def define_duration(x):\n",
        "    ms_in_min = 60000\n",
        "    if x <= 3 * ms_in_min:\n",
        "        return 'короткая'\n",
        "    elif x <= 5 * ms_in_min:\n",
        "        return 'средняя'\n",
        "    else:\n",
        "        return 'длинная'\n",
        "\n",
        "data['длительность_трека'] = data['duration_ms'].apply(define_duration)\n",
        "data.head()"
      ],
      "metadata": {
        "colab": {
          "base_uri": "https://localhost:8080/",
          "height": 773
        },
        "id": "yDVB3PwTlyIv",
        "outputId": "8bd05322-52fb-41c2-d840-b6d832005d8c"
      },
      "execution_count": 75,
      "outputs": [
        {
          "output_type": "stream",
          "name": "stderr",
          "text": [
            "<ipython-input-75-9a148f8bedd5>:10: SettingWithCopyWarning: \n",
            "A value is trying to be set on a copy of a slice from a DataFrame.\n",
            "Try using .loc[row_indexer,col_indexer] = value instead\n",
            "\n",
            "See the caveats in the documentation: https://pandas.pydata.org/pandas-docs/stable/user_guide/indexing.html#returning-a-view-versus-a-copy\n",
            "  data['длительность_трека'] = data['duration_ms'].apply(define_duration)\n"
          ]
        },
        {
          "output_type": "execute_result",
          "data": {
            "text/plain": [
              "       instance_id        artist_name  \\\n",
              "21939      47123.0    Chris Stapleton   \n",
              "6357       78025.0             May J.   \n",
              "11354      44406.0              Axian   \n",
              "46072      34898.0           A$AP Mob   \n",
              "23409      34591.0   Josh Abbott Band   \n",
              "...            ...                ...   \n",
              "26414      24224.0             Future   \n",
              "48115      32622.0     Arizona Zervas   \n",
              "5339       54852.0       Yuki Hayashi   \n",
              "15797      50415.0     Ryan Stevenson   \n",
              "4659       43076.0  Boaz van de Beatz   \n",
              "\n",
              "                                          track_name  popularity  \\\n",
              "21939  Last Thing I Needed, First Thing This Morning        57.0   \n",
              "6357                          I Will Always Love You        33.0   \n",
              "11354                                       Amazonas        41.0   \n",
              "46072                                  Feels So Good        59.0   \n",
              "23409                               She Will Be Free        35.0   \n",
              "...                                              ...         ...   \n",
              "26414                          WHEN I THINK ABOUT IT        52.0   \n",
              "48115                                         Swerve        58.0   \n",
              "5339                                          私が来た!!        33.0   \n",
              "15797                                     The Gospel        51.0   \n",
              "4659                                     No Way Home        35.0   \n",
              "\n",
              "       acousticness  danceability  duration_ms  energy  instrumentalness key  \\\n",
              "21939        0.7570         0.560     255027.0   0.261          0.000047   E   \n",
              "6357         0.7630         0.329     290844.0   0.352          0.000001   E   \n",
              "11354        0.4320         0.760     113279.0   0.424          0.712000   B   \n",
              "46072        0.3330         0.877     205267.0   0.375          0.010300  A#   \n",
              "23409        0.0380         0.439     257213.0   0.780          0.000000   D   \n",
              "...             ...           ...          ...     ...               ...  ..   \n",
              "26414        0.1340         0.523     184594.0   0.665          0.000000  F#   \n",
              "48115        0.1570         0.918     169718.0   0.834          0.000011   C   \n",
              "5339         0.3980         0.390         -1.0   0.881          0.904000   C   \n",
              "15797        0.0349         0.573     254262.0   0.661          0.000079   C   \n",
              "4659         0.0721         0.647     200094.0   0.913          0.000032   G   \n",
              "\n",
              "       liveness  loudness   mode  speechiness               tempo  \\\n",
              "21939    0.1240   -10.000  Major       0.0289              83.749   \n",
              "6357     0.2090    -9.611  Major       0.0365             131.322   \n",
              "11354    0.0836    -6.768  Minor       0.2200   85.03200000000001   \n",
              "46072    0.1010   -10.830  Major       0.3040              77.028   \n",
              "23409    0.1160    -4.643  Major       0.0395  174.00599999999997   \n",
              "...         ...       ...    ...          ...                 ...   \n",
              "26414    0.1380    -6.534  Minor       0.1510  155.07299999999998   \n",
              "48115    0.0651    -6.210  Major       0.0935             128.006   \n",
              "5339     0.1390    -5.509  Major       0.0968             157.711   \n",
              "15797    0.1120    -6.730  Minor       0.0517             153.907   \n",
              "4659     0.3470    -5.233  Minor       0.1010  154.97799999999998   \n",
              "\n",
              "      obtained_date  valence  music_genre длительность_трека  \n",
              "21939         3-Apr   0.2010      Country            средняя  \n",
              "6357          4-Apr   0.1540        Anime            средняя  \n",
              "11354         4-Apr   0.8320         Jazz           короткая  \n",
              "46072         4-Apr   0.0832      Hip-Hop            средняя  \n",
              "23409         4-Apr   0.1030      Country            средняя  \n",
              "...             ...      ...          ...                ...  \n",
              "26414         4-Apr   0.5060          Rap            средняя  \n",
              "48115         4-Apr   0.8420      Hip-Hop           короткая  \n",
              "5339          3-Apr   0.5440        Anime           короткая  \n",
              "15797         4-Apr   0.6220  Alternative            средняя  \n",
              "4659          4-Apr   0.3610   Electronic            средняя  \n",
              "\n",
              "[19021 rows x 19 columns]"
            ],
            "text/html": [
              "\n",
              "  <div id=\"df-d974d2d5-881c-4e8f-82a4-a3c8a736113f\" class=\"colab-df-container\">\n",
              "    <div>\n",
              "<style scoped>\n",
              "    .dataframe tbody tr th:only-of-type {\n",
              "        vertical-align: middle;\n",
              "    }\n",
              "\n",
              "    .dataframe tbody tr th {\n",
              "        vertical-align: top;\n",
              "    }\n",
              "\n",
              "    .dataframe thead th {\n",
              "        text-align: right;\n",
              "    }\n",
              "</style>\n",
              "<table border=\"1\" class=\"dataframe\">\n",
              "  <thead>\n",
              "    <tr style=\"text-align: right;\">\n",
              "      <th></th>\n",
              "      <th>instance_id</th>\n",
              "      <th>artist_name</th>\n",
              "      <th>track_name</th>\n",
              "      <th>popularity</th>\n",
              "      <th>acousticness</th>\n",
              "      <th>danceability</th>\n",
              "      <th>duration_ms</th>\n",
              "      <th>energy</th>\n",
              "      <th>instrumentalness</th>\n",
              "      <th>key</th>\n",
              "      <th>liveness</th>\n",
              "      <th>loudness</th>\n",
              "      <th>mode</th>\n",
              "      <th>speechiness</th>\n",
              "      <th>tempo</th>\n",
              "      <th>obtained_date</th>\n",
              "      <th>valence</th>\n",
              "      <th>music_genre</th>\n",
              "      <th>длительность_трека</th>\n",
              "    </tr>\n",
              "  </thead>\n",
              "  <tbody>\n",
              "    <tr>\n",
              "      <th>21939</th>\n",
              "      <td>47123.0</td>\n",
              "      <td>Chris Stapleton</td>\n",
              "      <td>Last Thing I Needed, First Thing This Morning</td>\n",
              "      <td>57.0</td>\n",
              "      <td>0.7570</td>\n",
              "      <td>0.560</td>\n",
              "      <td>255027.0</td>\n",
              "      <td>0.261</td>\n",
              "      <td>0.000047</td>\n",
              "      <td>E</td>\n",
              "      <td>0.1240</td>\n",
              "      <td>-10.000</td>\n",
              "      <td>Major</td>\n",
              "      <td>0.0289</td>\n",
              "      <td>83.749</td>\n",
              "      <td>3-Apr</td>\n",
              "      <td>0.2010</td>\n",
              "      <td>Country</td>\n",
              "      <td>средняя</td>\n",
              "    </tr>\n",
              "    <tr>\n",
              "      <th>6357</th>\n",
              "      <td>78025.0</td>\n",
              "      <td>May J.</td>\n",
              "      <td>I Will Always Love You</td>\n",
              "      <td>33.0</td>\n",
              "      <td>0.7630</td>\n",
              "      <td>0.329</td>\n",
              "      <td>290844.0</td>\n",
              "      <td>0.352</td>\n",
              "      <td>0.000001</td>\n",
              "      <td>E</td>\n",
              "      <td>0.2090</td>\n",
              "      <td>-9.611</td>\n",
              "      <td>Major</td>\n",
              "      <td>0.0365</td>\n",
              "      <td>131.322</td>\n",
              "      <td>4-Apr</td>\n",
              "      <td>0.1540</td>\n",
              "      <td>Anime</td>\n",
              "      <td>средняя</td>\n",
              "    </tr>\n",
              "    <tr>\n",
              "      <th>11354</th>\n",
              "      <td>44406.0</td>\n",
              "      <td>Axian</td>\n",
              "      <td>Amazonas</td>\n",
              "      <td>41.0</td>\n",
              "      <td>0.4320</td>\n",
              "      <td>0.760</td>\n",
              "      <td>113279.0</td>\n",
              "      <td>0.424</td>\n",
              "      <td>0.712000</td>\n",
              "      <td>B</td>\n",
              "      <td>0.0836</td>\n",
              "      <td>-6.768</td>\n",
              "      <td>Minor</td>\n",
              "      <td>0.2200</td>\n",
              "      <td>85.03200000000001</td>\n",
              "      <td>4-Apr</td>\n",
              "      <td>0.8320</td>\n",
              "      <td>Jazz</td>\n",
              "      <td>короткая</td>\n",
              "    </tr>\n",
              "    <tr>\n",
              "      <th>46072</th>\n",
              "      <td>34898.0</td>\n",
              "      <td>A$AP Mob</td>\n",
              "      <td>Feels So Good</td>\n",
              "      <td>59.0</td>\n",
              "      <td>0.3330</td>\n",
              "      <td>0.877</td>\n",
              "      <td>205267.0</td>\n",
              "      <td>0.375</td>\n",
              "      <td>0.010300</td>\n",
              "      <td>A#</td>\n",
              "      <td>0.1010</td>\n",
              "      <td>-10.830</td>\n",
              "      <td>Major</td>\n",
              "      <td>0.3040</td>\n",
              "      <td>77.028</td>\n",
              "      <td>4-Apr</td>\n",
              "      <td>0.0832</td>\n",
              "      <td>Hip-Hop</td>\n",
              "      <td>средняя</td>\n",
              "    </tr>\n",
              "    <tr>\n",
              "      <th>23409</th>\n",
              "      <td>34591.0</td>\n",
              "      <td>Josh Abbott Band</td>\n",
              "      <td>She Will Be Free</td>\n",
              "      <td>35.0</td>\n",
              "      <td>0.0380</td>\n",
              "      <td>0.439</td>\n",
              "      <td>257213.0</td>\n",
              "      <td>0.780</td>\n",
              "      <td>0.000000</td>\n",
              "      <td>D</td>\n",
              "      <td>0.1160</td>\n",
              "      <td>-4.643</td>\n",
              "      <td>Major</td>\n",
              "      <td>0.0395</td>\n",
              "      <td>174.00599999999997</td>\n",
              "      <td>4-Apr</td>\n",
              "      <td>0.1030</td>\n",
              "      <td>Country</td>\n",
              "      <td>средняя</td>\n",
              "    </tr>\n",
              "    <tr>\n",
              "      <th>...</th>\n",
              "      <td>...</td>\n",
              "      <td>...</td>\n",
              "      <td>...</td>\n",
              "      <td>...</td>\n",
              "      <td>...</td>\n",
              "      <td>...</td>\n",
              "      <td>...</td>\n",
              "      <td>...</td>\n",
              "      <td>...</td>\n",
              "      <td>...</td>\n",
              "      <td>...</td>\n",
              "      <td>...</td>\n",
              "      <td>...</td>\n",
              "      <td>...</td>\n",
              "      <td>...</td>\n",
              "      <td>...</td>\n",
              "      <td>...</td>\n",
              "      <td>...</td>\n",
              "      <td>...</td>\n",
              "    </tr>\n",
              "    <tr>\n",
              "      <th>26414</th>\n",
              "      <td>24224.0</td>\n",
              "      <td>Future</td>\n",
              "      <td>WHEN I THINK ABOUT IT</td>\n",
              "      <td>52.0</td>\n",
              "      <td>0.1340</td>\n",
              "      <td>0.523</td>\n",
              "      <td>184594.0</td>\n",
              "      <td>0.665</td>\n",
              "      <td>0.000000</td>\n",
              "      <td>F#</td>\n",
              "      <td>0.1380</td>\n",
              "      <td>-6.534</td>\n",
              "      <td>Minor</td>\n",
              "      <td>0.1510</td>\n",
              "      <td>155.07299999999998</td>\n",
              "      <td>4-Apr</td>\n",
              "      <td>0.5060</td>\n",
              "      <td>Rap</td>\n",
              "      <td>средняя</td>\n",
              "    </tr>\n",
              "    <tr>\n",
              "      <th>48115</th>\n",
              "      <td>32622.0</td>\n",
              "      <td>Arizona Zervas</td>\n",
              "      <td>Swerve</td>\n",
              "      <td>58.0</td>\n",
              "      <td>0.1570</td>\n",
              "      <td>0.918</td>\n",
              "      <td>169718.0</td>\n",
              "      <td>0.834</td>\n",
              "      <td>0.000011</td>\n",
              "      <td>C</td>\n",
              "      <td>0.0651</td>\n",
              "      <td>-6.210</td>\n",
              "      <td>Major</td>\n",
              "      <td>0.0935</td>\n",
              "      <td>128.006</td>\n",
              "      <td>4-Apr</td>\n",
              "      <td>0.8420</td>\n",
              "      <td>Hip-Hop</td>\n",
              "      <td>короткая</td>\n",
              "    </tr>\n",
              "    <tr>\n",
              "      <th>5339</th>\n",
              "      <td>54852.0</td>\n",
              "      <td>Yuki Hayashi</td>\n",
              "      <td>私が来た!!</td>\n",
              "      <td>33.0</td>\n",
              "      <td>0.3980</td>\n",
              "      <td>0.390</td>\n",
              "      <td>-1.0</td>\n",
              "      <td>0.881</td>\n",
              "      <td>0.904000</td>\n",
              "      <td>C</td>\n",
              "      <td>0.1390</td>\n",
              "      <td>-5.509</td>\n",
              "      <td>Major</td>\n",
              "      <td>0.0968</td>\n",
              "      <td>157.711</td>\n",
              "      <td>3-Apr</td>\n",
              "      <td>0.5440</td>\n",
              "      <td>Anime</td>\n",
              "      <td>короткая</td>\n",
              "    </tr>\n",
              "    <tr>\n",
              "      <th>15797</th>\n",
              "      <td>50415.0</td>\n",
              "      <td>Ryan Stevenson</td>\n",
              "      <td>The Gospel</td>\n",
              "      <td>51.0</td>\n",
              "      <td>0.0349</td>\n",
              "      <td>0.573</td>\n",
              "      <td>254262.0</td>\n",
              "      <td>0.661</td>\n",
              "      <td>0.000079</td>\n",
              "      <td>C</td>\n",
              "      <td>0.1120</td>\n",
              "      <td>-6.730</td>\n",
              "      <td>Minor</td>\n",
              "      <td>0.0517</td>\n",
              "      <td>153.907</td>\n",
              "      <td>4-Apr</td>\n",
              "      <td>0.6220</td>\n",
              "      <td>Alternative</td>\n",
              "      <td>средняя</td>\n",
              "    </tr>\n",
              "    <tr>\n",
              "      <th>4659</th>\n",
              "      <td>43076.0</td>\n",
              "      <td>Boaz van de Beatz</td>\n",
              "      <td>No Way Home</td>\n",
              "      <td>35.0</td>\n",
              "      <td>0.0721</td>\n",
              "      <td>0.647</td>\n",
              "      <td>200094.0</td>\n",
              "      <td>0.913</td>\n",
              "      <td>0.000032</td>\n",
              "      <td>G</td>\n",
              "      <td>0.3470</td>\n",
              "      <td>-5.233</td>\n",
              "      <td>Minor</td>\n",
              "      <td>0.1010</td>\n",
              "      <td>154.97799999999998</td>\n",
              "      <td>4-Apr</td>\n",
              "      <td>0.3610</td>\n",
              "      <td>Electronic</td>\n",
              "      <td>средняя</td>\n",
              "    </tr>\n",
              "  </tbody>\n",
              "</table>\n",
              "<p>19021 rows × 19 columns</p>\n",
              "</div>\n",
              "    <div class=\"colab-df-buttons\">\n",
              "\n",
              "  <div class=\"colab-df-container\">\n",
              "    <button class=\"colab-df-convert\" onclick=\"convertToInteractive('df-d974d2d5-881c-4e8f-82a4-a3c8a736113f')\"\n",
              "            title=\"Convert this dataframe to an interactive table.\"\n",
              "            style=\"display:none;\">\n",
              "\n",
              "  <svg xmlns=\"http://www.w3.org/2000/svg\" height=\"24px\" viewBox=\"0 -960 960 960\">\n",
              "    <path d=\"M120-120v-720h720v720H120Zm60-500h600v-160H180v160Zm220 220h160v-160H400v160Zm0 220h160v-160H400v160ZM180-400h160v-160H180v160Zm440 0h160v-160H620v160ZM180-180h160v-160H180v160Zm440 0h160v-160H620v160Z\"/>\n",
              "  </svg>\n",
              "    </button>\n",
              "\n",
              "  <style>\n",
              "    .colab-df-container {\n",
              "      display:flex;\n",
              "      gap: 12px;\n",
              "    }\n",
              "\n",
              "    .colab-df-convert {\n",
              "      background-color: #E8F0FE;\n",
              "      border: none;\n",
              "      border-radius: 50%;\n",
              "      cursor: pointer;\n",
              "      display: none;\n",
              "      fill: #1967D2;\n",
              "      height: 32px;\n",
              "      padding: 0 0 0 0;\n",
              "      width: 32px;\n",
              "    }\n",
              "\n",
              "    .colab-df-convert:hover {\n",
              "      background-color: #E2EBFA;\n",
              "      box-shadow: 0px 1px 2px rgba(60, 64, 67, 0.3), 0px 1px 3px 1px rgba(60, 64, 67, 0.15);\n",
              "      fill: #174EA6;\n",
              "    }\n",
              "\n",
              "    .colab-df-buttons div {\n",
              "      margin-bottom: 4px;\n",
              "    }\n",
              "\n",
              "    [theme=dark] .colab-df-convert {\n",
              "      background-color: #3B4455;\n",
              "      fill: #D2E3FC;\n",
              "    }\n",
              "\n",
              "    [theme=dark] .colab-df-convert:hover {\n",
              "      background-color: #434B5C;\n",
              "      box-shadow: 0px 1px 3px 1px rgba(0, 0, 0, 0.15);\n",
              "      filter: drop-shadow(0px 1px 2px rgba(0, 0, 0, 0.3));\n",
              "      fill: #FFFFFF;\n",
              "    }\n",
              "  </style>\n",
              "\n",
              "    <script>\n",
              "      const buttonEl =\n",
              "        document.querySelector('#df-d974d2d5-881c-4e8f-82a4-a3c8a736113f button.colab-df-convert');\n",
              "      buttonEl.style.display =\n",
              "        google.colab.kernel.accessAllowed ? 'block' : 'none';\n",
              "\n",
              "      async function convertToInteractive(key) {\n",
              "        const element = document.querySelector('#df-d974d2d5-881c-4e8f-82a4-a3c8a736113f');\n",
              "        const dataTable =\n",
              "          await google.colab.kernel.invokeFunction('convertToInteractive',\n",
              "                                                    [key], {});\n",
              "        if (!dataTable) return;\n",
              "\n",
              "        const docLinkHtml = 'Like what you see? Visit the ' +\n",
              "          '<a target=\"_blank\" href=https://colab.research.google.com/notebooks/data_table.ipynb>data table notebook</a>'\n",
              "          + ' to learn more about interactive tables.';\n",
              "        element.innerHTML = '';\n",
              "        dataTable['output_type'] = 'display_data';\n",
              "        await google.colab.output.renderOutput(dataTable, element);\n",
              "        const docLink = document.createElement('div');\n",
              "        docLink.innerHTML = docLinkHtml;\n",
              "        element.appendChild(docLink);\n",
              "      }\n",
              "    </script>\n",
              "  </div>\n",
              "\n",
              "\n",
              "<div id=\"df-4ab1432f-8569-4a04-99cc-fe0e64af6827\">\n",
              "  <button class=\"colab-df-quickchart\" onclick=\"quickchart('df-4ab1432f-8569-4a04-99cc-fe0e64af6827')\"\n",
              "            title=\"Suggest charts\"\n",
              "            style=\"display:none;\">\n",
              "\n",
              "<svg xmlns=\"http://www.w3.org/2000/svg\" height=\"24px\"viewBox=\"0 0 24 24\"\n",
              "     width=\"24px\">\n",
              "    <g>\n",
              "        <path d=\"M19 3H5c-1.1 0-2 .9-2 2v14c0 1.1.9 2 2 2h14c1.1 0 2-.9 2-2V5c0-1.1-.9-2-2-2zM9 17H7v-7h2v7zm4 0h-2V7h2v10zm4 0h-2v-4h2v4z\"/>\n",
              "    </g>\n",
              "</svg>\n",
              "  </button>\n",
              "\n",
              "<style>\n",
              "  .colab-df-quickchart {\n",
              "      --bg-color: #E8F0FE;\n",
              "      --fill-color: #1967D2;\n",
              "      --hover-bg-color: #E2EBFA;\n",
              "      --hover-fill-color: #174EA6;\n",
              "      --disabled-fill-color: #AAA;\n",
              "      --disabled-bg-color: #DDD;\n",
              "  }\n",
              "\n",
              "  [theme=dark] .colab-df-quickchart {\n",
              "      --bg-color: #3B4455;\n",
              "      --fill-color: #D2E3FC;\n",
              "      --hover-bg-color: #434B5C;\n",
              "      --hover-fill-color: #FFFFFF;\n",
              "      --disabled-bg-color: #3B4455;\n",
              "      --disabled-fill-color: #666;\n",
              "  }\n",
              "\n",
              "  .colab-df-quickchart {\n",
              "    background-color: var(--bg-color);\n",
              "    border: none;\n",
              "    border-radius: 50%;\n",
              "    cursor: pointer;\n",
              "    display: none;\n",
              "    fill: var(--fill-color);\n",
              "    height: 32px;\n",
              "    padding: 0;\n",
              "    width: 32px;\n",
              "  }\n",
              "\n",
              "  .colab-df-quickchart:hover {\n",
              "    background-color: var(--hover-bg-color);\n",
              "    box-shadow: 0 1px 2px rgba(60, 64, 67, 0.3), 0 1px 3px 1px rgba(60, 64, 67, 0.15);\n",
              "    fill: var(--button-hover-fill-color);\n",
              "  }\n",
              "\n",
              "  .colab-df-quickchart-complete:disabled,\n",
              "  .colab-df-quickchart-complete:disabled:hover {\n",
              "    background-color: var(--disabled-bg-color);\n",
              "    fill: var(--disabled-fill-color);\n",
              "    box-shadow: none;\n",
              "  }\n",
              "\n",
              "  .colab-df-spinner {\n",
              "    border: 2px solid var(--fill-color);\n",
              "    border-color: transparent;\n",
              "    border-bottom-color: var(--fill-color);\n",
              "    animation:\n",
              "      spin 1s steps(1) infinite;\n",
              "  }\n",
              "\n",
              "  @keyframes spin {\n",
              "    0% {\n",
              "      border-color: transparent;\n",
              "      border-bottom-color: var(--fill-color);\n",
              "      border-left-color: var(--fill-color);\n",
              "    }\n",
              "    20% {\n",
              "      border-color: transparent;\n",
              "      border-left-color: var(--fill-color);\n",
              "      border-top-color: var(--fill-color);\n",
              "    }\n",
              "    30% {\n",
              "      border-color: transparent;\n",
              "      border-left-color: var(--fill-color);\n",
              "      border-top-color: var(--fill-color);\n",
              "      border-right-color: var(--fill-color);\n",
              "    }\n",
              "    40% {\n",
              "      border-color: transparent;\n",
              "      border-right-color: var(--fill-color);\n",
              "      border-top-color: var(--fill-color);\n",
              "    }\n",
              "    60% {\n",
              "      border-color: transparent;\n",
              "      border-right-color: var(--fill-color);\n",
              "    }\n",
              "    80% {\n",
              "      border-color: transparent;\n",
              "      border-right-color: var(--fill-color);\n",
              "      border-bottom-color: var(--fill-color);\n",
              "    }\n",
              "    90% {\n",
              "      border-color: transparent;\n",
              "      border-bottom-color: var(--fill-color);\n",
              "    }\n",
              "  }\n",
              "</style>\n",
              "\n",
              "  <script>\n",
              "    async function quickchart(key) {\n",
              "      const quickchartButtonEl =\n",
              "        document.querySelector('#' + key + ' button');\n",
              "      quickchartButtonEl.disabled = true;  // To prevent multiple clicks.\n",
              "      quickchartButtonEl.classList.add('colab-df-spinner');\n",
              "      try {\n",
              "        const charts = await google.colab.kernel.invokeFunction(\n",
              "            'suggestCharts', [key], {});\n",
              "      } catch (error) {\n",
              "        console.error('Error during call to suggestCharts:', error);\n",
              "      }\n",
              "      quickchartButtonEl.classList.remove('colab-df-spinner');\n",
              "      quickchartButtonEl.classList.add('colab-df-quickchart-complete');\n",
              "    }\n",
              "    (() => {\n",
              "      let quickchartButtonEl =\n",
              "        document.querySelector('#df-4ab1432f-8569-4a04-99cc-fe0e64af6827 button');\n",
              "      quickchartButtonEl.style.display =\n",
              "        google.colab.kernel.accessAllowed ? 'block' : 'none';\n",
              "    })();\n",
              "  </script>\n",
              "</div>\n",
              "    </div>\n",
              "  </div>\n"
            ]
          },
          "metadata": {},
          "execution_count": 75
        }
      ]
    },
    {
      "cell_type": "code",
      "source": [
        "plt.figure(figsize=(11, 6))\n",
        "sns.kdeplot(data=data, x='loudness', hue='длительность_трека', fill=True)\n",
        "plt.title('Плотность распределения громкости по категориям длительности трека')\n",
        "plt.xlabel('Громкость')\n",
        "plt.ylabel('Плотность')\n",
        "plt.show()"
      ],
      "metadata": {
        "colab": {
          "base_uri": "https://localhost:8080/",
          "height": 564
        },
        "id": "AbsPYB-Blx_G",
        "outputId": "f84544a6-ec8f-4ce1-e523-d78155619b13"
      },
      "execution_count": 105,
      "outputs": [
        {
          "output_type": "display_data",
          "data": {
            "text/plain": [
              "<Figure size 1100x600 with 1 Axes>"
            ],
            "image/png": "[encoded data removed]"
          },
          "metadata": {}
        }
      ]
    },
    {
      "cell_type": "code",
      "source": [
        "count_by_duration = data.groupby('длительность_трека')['instance_id'].count()"
      ],
      "metadata": {
        "id": "d08ddCHazNJI"
      },
      "execution_count": 108,
      "outputs": []
    },
    {
      "cell_type": "code",
      "metadata": {
        "id": "C8mkWk2fwrvl",
        "colab": {
          "base_uri": "https://localhost:8080/",
          "height": 693
        },
        "outputId": "cc119da3-911b-41f9-b4c5-7a0b5d782faa"
      },
      "source": [
        "sns.set_palette(\"Set2\")\n",
        "plt.subplots(figsize=(8, 8))\n",
        "plt.pie(x=count_by_duration, labels=count_by_duration.index, wedgeprops=dict(width=0.5), autopct='%1.1f%%');\n",
        "plt.title('Численное соотношение треков разной длительности', fontsize=14)"
      ],
      "execution_count": 130,
      "outputs": [
        {
          "output_type": "execute_result",
          "data": {
            "text/plain": [
              "Text(0.5, 1.0, 'Численное соотношение треков разной длительности')"
            ]
          },
          "metadata": {},
          "execution_count": 130
        },
        {
          "output_type": "display_data",
          "data": {
            "text/plain": [
              "<Figure size 800x800 with 1 Axes>"
            ],
            "image/png": "[encoded data removed]"
          },
          "metadata": {}
        }
      ]
    },
    {
      "cell_type": "markdown",
      "source": [
        "## Часть 2\n",
        "\n",
        "Выполните на языке R следующие задания:\n",
        "- задание 1 – целиком\n",
        "- задание 2 – целиком\n",
        "- задание 3 – целиком\n",
        "- задание 4 – целиком\n",
        "- задание 5 – целиком\n",
        "- задание 6 – не выполнять\n",
        "- задание 7 – целиком\n",
        "- задание 8 – целиком, но в третьем пункте постройте круговую диаграмму"
      ],
      "metadata": {
        "id": "Z0_35fxD5H_H"
      }
    },
    {
      "cell_type": "markdown",
      "source": [
        "Задание для части 2 выполняйте в отдельном гугл-колабе, настроенном для языка R. Гугл-колаб с решениями второй части также соедините с веткой homework06 своего гитхаба."
      ],
      "metadata": {
        "id": "XveRUbLT56Nu"
      }
    },
    {
      "cell_type": "markdown",
      "source": [
        "## Часть 3 (дополнительная)\n",
        "\n",
        "Часть не является обязательной, но ее верное(!) выполнение освобождает вас от защиты работы.\n",
        "\n",
        "Выполните на языке SQL следующие задания:\n",
        "- задание 1 – пункт 4\n",
        "- задание 2 – пункты 1, 3, 4\n",
        "- задание 3 – целиком, но без графика во втором пункте\n",
        "- задание 4 – не выполнять\n",
        "- задание 5 – не выполнять\n",
        "- задание 6 – не выполнять\n",
        "- задание 7 – не выполнять\n",
        "- задание 8 – пункт 1 и пункт 3 (в 3 пункте просто посчитайте количество треков каждой длительности)"
      ],
      "metadata": {
        "id": "HUEGsrLO6-GA"
      }
    },
    {
      "cell_type": "markdown",
      "source": [
        "Задание для части 3 выполняйте в отдельном гугл-колабе. Гугл-колаб с решениями второй части также соедините с веткой homework06 своего гитхаба."
      ],
      "metadata": {
        "id": "7UmmyVWb-1EQ"
      }
    },
    {
      "cell_type": "markdown",
      "source": [
        "#### Пример"
      ],
      "metadata": {
        "id": "a6k-9j1a-8T-"
      }
    },
    {
      "cell_type": "code",
      "source": [
        "import pandas as pd\n",
        "df = pd.read_csv(\"music_genre.csv\")\n",
        "df.head()"
      ],
      "metadata": {
        "colab": {
          "base_uri": "https://localhost:8080/",
          "height": 315
        },
        "id": "pJ4xc_vO8Z0k",
        "outputId": "d83053d0-1bf9-4cbf-ddb2-29931fe692ae"
      },
      "execution_count": null,
      "outputs": [
        {
          "output_type": "execute_result",
          "data": {
            "text/plain": [
              "   instance_id           artist_name            track_name  popularity  \\\n",
              "0      32894.0              Röyksopp  Röyksopp's Night Out        27.0   \n",
              "1      46652.0  Thievery Corporation      The Shining Path        31.0   \n",
              "2      30097.0        Dillon Francis             Hurricane        28.0   \n",
              "3      62177.0              Dubloadz                 Nitro        34.0   \n",
              "4      24907.0           What So Not      Divide & Conquer        32.0   \n",
              "\n",
              "   acousticness  danceability  duration_ms  energy  instrumentalness key  \\\n",
              "0       0.00468         0.652         -1.0   0.941           0.79200  A#   \n",
              "1       0.01270         0.622     218293.0   0.890           0.95000   D   \n",
              "2       0.00306         0.620     215613.0   0.755           0.01180  G#   \n",
              "3       0.02540         0.774     166875.0   0.700           0.00253  C#   \n",
              "4       0.00465         0.638     222369.0   0.587           0.90900  F#   \n",
              "\n",
              "   liveness  loudness   mode  speechiness               tempo obtained_date  \\\n",
              "0     0.115    -5.201  Minor       0.0748             100.889         4-Apr   \n",
              "1     0.124    -7.043  Minor       0.0300  115.00200000000001         4-Apr   \n",
              "2     0.534    -4.617  Major       0.0345             127.994         4-Apr   \n",
              "3     0.157    -4.498  Major       0.2390             128.014         4-Apr   \n",
              "4     0.157    -6.266  Major       0.0413             145.036         4-Apr   \n",
              "\n",
              "   valence music_genre  \n",
              "0    0.759  Electronic  \n",
              "1    0.531  Electronic  \n",
              "2    0.333  Electronic  \n",
              "3    0.270  Electronic  \n",
              "4    0.323  Electronic  "
            ],
            "text/html": [
              "\n",
              "  <div id=\"df-e7754b78-e2c5-48ad-ab21-29b24a9cbbaa\">\n",
              "    <div class=\"colab-df-container\">\n",
              "      <div>\n",
              "<style scoped>\n",
              "    .dataframe tbody tr th:only-of-type {\n",
              "        vertical-align: middle;\n",
              "    }\n",
              "\n",
              "    .dataframe tbody tr th {\n",
              "        vertical-align: top;\n",
              "    }\n",
              "\n",
              "    .dataframe thead th {\n",
              "        text-align: right;\n",
              "    }\n",
              "</style>\n",
              "<table border=\"1\" class=\"dataframe\">\n",
              "  <thead>\n",
              "    <tr style=\"text-align: right;\">\n",
              "      <th></th>\n",
              "      <th>instance_id</th>\n",
              "      <th>artist_name</th>\n",
              "      <th>track_name</th>\n",
              "      <th>popularity</th>\n",
              "      <th>acousticness</th>\n",
              "      <th>danceability</th>\n",
              "      <th>duration_ms</th>\n",
              "      <th>energy</th>\n",
              "      <th>instrumentalness</th>\n",
              "      <th>key</th>\n",
              "      <th>liveness</th>\n",
              "      <th>loudness</th>\n",
              "      <th>mode</th>\n",
              "      <th>speechiness</th>\n",
              "      <th>tempo</th>\n",
              "      <th>obtained_date</th>\n",
              "      <th>valence</th>\n",
              "      <th>music_genre</th>\n",
              "    </tr>\n",
              "  </thead>\n",
              "  <tbody>\n",
              "    <tr>\n",
              "      <th>0</th>\n",
              "      <td>32894.0</td>\n",
              "      <td>Röyksopp</td>\n",
              "      <td>Röyksopp's Night Out</td>\n",
              "      <td>27.0</td>\n",
              "      <td>0.00468</td>\n",
              "      <td>0.652</td>\n",
              "      <td>-1.0</td>\n",
              "      <td>0.941</td>\n",
              "      <td>0.79200</td>\n",
              "      <td>A#</td>\n",
              "      <td>0.115</td>\n",
              "      <td>-5.201</td>\n",
              "      <td>Minor</td>\n",
              "      <td>0.0748</td>\n",
              "      <td>100.889</td>\n",
              "      <td>4-Apr</td>\n",
              "      <td>0.759</td>\n",
              "      <td>Electronic</td>\n",
              "    </tr>\n",
              "    <tr>\n",
              "      <th>1</th>\n",
              "      <td>46652.0</td>\n",
              "      <td>Thievery Corporation</td>\n",
              "      <td>The Shining Path</td>\n",
              "      <td>31.0</td>\n",
              "      <td>0.01270</td>\n",
              "      <td>0.622</td>\n",
              "      <td>218293.0</td>\n",
              "      <td>0.890</td>\n",
              "      <td>0.95000</td>\n",
              "      <td>D</td>\n",
              "      <td>0.124</td>\n",
              "      <td>-7.043</td>\n",
              "      <td>Minor</td>\n",
              "      <td>0.0300</td>\n",
              "      <td>115.00200000000001</td>\n",
              "      <td>4-Apr</td>\n",
              "      <td>0.531</td>\n",
              "      <td>Electronic</td>\n",
              "    </tr>\n",
              "    <tr>\n",
              "      <th>2</th>\n",
              "      <td>30097.0</td>\n",
              "      <td>Dillon Francis</td>\n",
              "      <td>Hurricane</td>\n",
              "      <td>28.0</td>\n",
              "      <td>0.00306</td>\n",
              "      <td>0.620</td>\n",
              "      <td>215613.0</td>\n",
              "      <td>0.755</td>\n",
              "      <td>0.01180</td>\n",
              "      <td>G#</td>\n",
              "      <td>0.534</td>\n",
              "      <td>-4.617</td>\n",
              "      <td>Major</td>\n",
              "      <td>0.0345</td>\n",
              "      <td>127.994</td>\n",
              "      <td>4-Apr</td>\n",
              "      <td>0.333</td>\n",
              "      <td>Electronic</td>\n",
              "    </tr>\n",
              "    <tr>\n",
              "      <th>3</th>\n",
              "      <td>62177.0</td>\n",
              "      <td>Dubloadz</td>\n",
              "      <td>Nitro</td>\n",
              "      <td>34.0</td>\n",
              "      <td>0.02540</td>\n",
              "      <td>0.774</td>\n",
              "      <td>166875.0</td>\n",
              "      <td>0.700</td>\n",
              "      <td>0.00253</td>\n",
              "      <td>C#</td>\n",
              "      <td>0.157</td>\n",
              "      <td>-4.498</td>\n",
              "      <td>Major</td>\n",
              "      <td>0.2390</td>\n",
              "      <td>128.014</td>\n",
              "      <td>4-Apr</td>\n",
              "      <td>0.270</td>\n",
              "      <td>Electronic</td>\n",
              "    </tr>\n",
              "    <tr>\n",
              "      <th>4</th>\n",
              "      <td>24907.0</td>\n",
              "      <td>What So Not</td>\n",
              "      <td>Divide &amp; Conquer</td>\n",
              "      <td>32.0</td>\n",
              "      <td>0.00465</td>\n",
              "      <td>0.638</td>\n",
              "      <td>222369.0</td>\n",
              "      <td>0.587</td>\n",
              "      <td>0.90900</td>\n",
              "      <td>F#</td>\n",
              "      <td>0.157</td>\n",
              "      <td>-6.266</td>\n",
              "      <td>Major</td>\n",
              "      <td>0.0413</td>\n",
              "      <td>145.036</td>\n",
              "      <td>4-Apr</td>\n",
              "      <td>0.323</td>\n",
              "      <td>Electronic</td>\n",
              "    </tr>\n",
              "  </tbody>\n",
              "</table>\n",
              "</div>\n",
              "      <button class=\"colab-df-convert\" onclick=\"convertToInteractive('df-e7754b78-e2c5-48ad-ab21-29b24a9cbbaa')\"\n",
              "              title=\"Convert this dataframe to an interactive table.\"\n",
              "              style=\"display:none;\">\n",
              "        \n",
              "  <svg xmlns=\"http://www.w3.org/2000/svg\" height=\"24px\"viewBox=\"0 0 24 24\"\n",
              "       width=\"24px\">\n",
              "    <path d=\"M0 0h24v24H0V0z\" fill=\"none\"/>\n",
              "    <path d=\"M18.56 5.44l.94 2.06.94-2.06 2.06-.94-2.06-.94-.94-2.06-.94 2.06-2.06.94zm-11 1L8.5 8.5l.94-2.06 2.06-.94-2.06-.94L8.5 2.5l-.94 2.06-2.06.94zm10 10l.94 2.06.94-2.06 2.06-.94-2.06-.94-.94-2.06-.94 2.06-2.06.94z\"/><path d=\"M17.41 7.96l-1.37-1.37c-.4-.4-.92-.59-1.43-.59-.52 0-1.04.2-1.43.59L10.3 9.45l-7.72 7.72c-.78.78-.78 2.05 0 2.83L4 21.41c.39.39.9.59 1.41.59.51 0 1.02-.2 1.41-.59l7.78-7.78 2.81-2.81c.8-.78.8-2.07 0-2.86zM5.41 20L4 18.59l7.72-7.72 1.47 1.35L5.41 20z\"/>\n",
              "  </svg>\n",
              "      </button>\n",
              "      \n",
              "  <style>\n",
              "    .colab-df-container {\n",
              "      display:flex;\n",
              "      flex-wrap:wrap;\n",
              "      gap: 12px;\n",
              "    }\n",
              "\n",
              "    .colab-df-convert {\n",
              "      background-color: #E8F0FE;\n",
              "      border: none;\n",
              "      border-radius: 50%;\n",
              "      cursor: pointer;\n",
              "      display: none;\n",
              "      fill: #1967D2;\n",
              "      height: 32px;\n",
              "      padding: 0 0 0 0;\n",
              "      width: 32px;\n",
              "    }\n",
              "\n",
              "    .colab-df-convert:hover {\n",
              "      background-color: #E2EBFA;\n",
              "      box-shadow: 0px 1px 2px rgba(60, 64, 67, 0.3), 0px 1px 3px 1px rgba(60, 64, 67, 0.15);\n",
              "      fill: #174EA6;\n",
              "    }\n",
              "\n",
              "    [theme=dark] .colab-df-convert {\n",
              "      background-color: #3B4455;\n",
              "      fill: #D2E3FC;\n",
              "    }\n",
              "\n",
              "    [theme=dark] .colab-df-convert:hover {\n",
              "      background-color: #434B5C;\n",
              "      box-shadow: 0px 1px 3px 1px rgba(0, 0, 0, 0.15);\n",
              "      filter: drop-shadow(0px 1px 2px rgba(0, 0, 0, 0.3));\n",
              "      fill: #FFFFFF;\n",
              "    }\n",
              "  </style>\n",
              "\n",
              "      <script>\n",
              "        const buttonEl =\n",
              "          document.querySelector('#df-e7754b78-e2c5-48ad-ab21-29b24a9cbbaa button.colab-df-convert');\n",
              "        buttonEl.style.display =\n",
              "          google.colab.kernel.accessAllowed ? 'block' : 'none';\n",
              "\n",
              "        async function convertToInteractive(key) {\n",
              "          const element = document.querySelector('#df-e7754b78-e2c5-48ad-ab21-29b24a9cbbaa');\n",
              "          const dataTable =\n",
              "            await google.colab.kernel.invokeFunction('convertToInteractive',\n",
              "                                                     [key], {});\n",
              "          if (!dataTable) return;\n",
              "\n",
              "          const docLinkHtml = 'Like what you see? Visit the ' +\n",
              "            '<a target=\"_blank\" href=https://colab.research.google.com/notebooks/data_table.ipynb>data table notebook</a>'\n",
              "            + ' to learn more about interactive tables.';\n",
              "          element.innerHTML = '';\n",
              "          dataTable['output_type'] = 'display_data';\n",
              "          await google.colab.output.renderOutput(dataTable, element);\n",
              "          const docLink = document.createElement('div');\n",
              "          docLink.innerHTML = docLinkHtml;\n",
              "          element.appendChild(docLink);\n",
              "        }\n",
              "      </script>\n",
              "    </div>\n",
              "  </div>\n",
              "  "
            ]
          },
          "metadata": {},
          "execution_count": 10
        }
      ]
    },
    {
      "cell_type": "code",
      "source": [
        "df[[\"artist_name\", \"track_name\", \"music_genre\"]].values.tolist()[:10]"
      ],
      "metadata": {
        "colab": {
          "base_uri": "https://localhost:8080/"
        },
        "id": "Q-FOrHTF8m61",
        "outputId": "12375277-3fa1-46e2-8b94-16e4f99b0a60"
      },
      "execution_count": null,
      "outputs": [
        {
          "output_type": "execute_result",
          "data": {
            "text/plain": [
              "[['Röyksopp', \"Röyksopp's Night Out\", 'Electronic'],\n",
              " ['Thievery Corporation', 'The Shining Path', 'Electronic'],\n",
              " ['Dillon Francis', 'Hurricane', 'Electronic'],\n",
              " ['Dubloadz', 'Nitro', 'Electronic'],\n",
              " ['What So Not', 'Divide & Conquer', 'Electronic'],\n",
              " ['Axel Boman', 'Hello', 'Electronic'],\n",
              " ['Jordan Comolli', 'Clash', 'Electronic'],\n",
              " ['Hraach', 'Delirio', 'Electronic'],\n",
              " ['Kayzo', 'NEVER ALONE', 'Electronic'],\n",
              " ['Shlump', 'Lazer Beam', 'Electronic']]"
            ]
          },
          "metadata": {},
          "execution_count": 23
        }
      ]
    },
    {
      "cell_type": "code",
      "source": [
        "import sqlite3\n",
        "\n",
        "# создаем таблицу в БД\n",
        "con = sqlite3.connect(\":memory:\")\n",
        "cur = con.cursor()\n",
        "cur.execute(\"CREATE TABLE music (artist, track, genre);\")\n",
        "\n",
        "# переносим в таблицу данные\n",
        "cur.executemany(\"INSERT INTO music (artist, track, genre) \"\n",
        "                \"VALUES (?, ?, ?);\",\n",
        "                df[[\"artist_name\", \"track_name\", \"music_genre\"]].values.tolist())\n",
        "\n",
        "# сохраняем изменения\n",
        "con.commit()\n",
        "\n",
        "# создаем и выполняем запрос\n",
        "get_songs_per_artist = \"SELECT artist, \" \\\n",
        "       \"COUNT(artist) AS number_of_songs \" \\\n",
        "       \"FROM music \" \\\n",
        "       \"GROUP BY artist \" \\\n",
        "       \"ORDER BY number_of_songs \" \\\n",
        "       \"DESC;\"\n",
        "cur.execute(get_songs_per_artist)\n",
        "\n",
        "result = cur.fetchall()\n",
        "result[:20]"
      ],
      "metadata": {
        "colab": {
          "base_uri": "https://localhost:8080/"
        },
        "id": "Fh_SrFni54U_",
        "outputId": "5bd92ab8-ad25-4bf7-fdf0-600f2287ef0d"
      },
      "execution_count": null,
      "outputs": [
        {
          "output_type": "execute_result",
          "data": {
            "text/plain": [
              "[('empty_field', 2489),\n",
              " ('Nobuo Uematsu', 429),\n",
              " ('Wolfgang Amadeus Mozart', 402),\n",
              " ('Ludwig van Beethoven', 317),\n",
              " ('Johann Sebastian Bach', 314),\n",
              " ('Frédéric Chopin', 241),\n",
              " ('Drake', 172),\n",
              " ('Capcom Sound Team', 169),\n",
              " ('Yuki Hayashi', 167),\n",
              " ('Eminem', 147),\n",
              " ('Future', 124),\n",
              " ('Thievery Corporation', 122),\n",
              " ('The Black Keys', 114),\n",
              " ('Pyotr Ilyich Tchaikovsky', 103),\n",
              " ('Kevin Gates', 102),\n",
              " ('Mac Miller', 97),\n",
              " ('Howard Shore', 93),\n",
              " ('Logic', 92),\n",
              " ('$uicideBoy$', 92),\n",
              " ('Ryuichi Sakamoto', 90)]"
            ]
          },
          "metadata": {},
          "execution_count": 22
        }
      ]
    }
  ]
}